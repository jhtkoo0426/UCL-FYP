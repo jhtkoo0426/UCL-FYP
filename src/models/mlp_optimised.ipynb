{
 "cells": [
  {
   "cell_type": "markdown",
   "metadata": {},
   "source": [
    "## UCL COMP0029 Individual Project for Year 3 BSc\n",
    "### Robust Robotic Grasping Utilising Touch Sensing - Proposed Learning Framework Notebook\n",
    "This notebook contains the essential code for training and testing a simplified learning framework for the proposed method - a simple multilayer perceptron to predict grasp outcomes."
   ]
  },
  {
   "cell_type": "markdown",
   "metadata": {},
   "source": [
    "### 1. Load packages"
   ]
  },
  {
   "cell_type": "code",
   "execution_count": 90,
   "metadata": {},
   "outputs": [],
   "source": [
    "import numpy as np\n",
    "import matplotlib.pyplot as plt\n",
    "from mpl_toolkits.mplot3d.art3d import Poly3DCollection\n",
    "\n",
    "import torch\n",
    "import torch.nn as nn\n",
    "import torch.nn.init as init\n",
    "import torch.optim as optim\n",
    "from torch.utils.data import Dataset, DataLoader\n",
    "from torchvision import transforms\n",
    "from PIL import Image\n",
    "import os\n",
    "import gc\n",
    "\n",
    "from sklearn.model_selection import train_test_split\n",
    "from sklearn.linear_model import LogisticRegression\n",
    "from sklearn.metrics import accuracy_score, confusion_matrix, ConfusionMatrixDisplay\n",
    "from sklearn.decomposition import PCA\n",
    "\n",
    "import seaborn as sns"
   ]
  },
  {
   "cell_type": "markdown",
   "metadata": {},
   "source": [
    "Set device for `PyTorch` training"
   ]
  },
  {
   "cell_type": "code",
   "execution_count": 91,
   "metadata": {},
   "outputs": [
    {
     "data": {
      "text/plain": [
       "device(type='cuda')"
      ]
     },
     "execution_count": 91,
     "metadata": {},
     "output_type": "execute_result"
    }
   ],
   "source": [
    "device = torch.device('cuda' if torch.cuda.is_available() else 'cpu')\n",
    "device"
   ]
  },
  {
   "cell_type": "markdown",
   "metadata": {},
   "source": [
    "PyTorch configs"
   ]
  },
  {
   "cell_type": "code",
   "execution_count": 92,
   "metadata": {},
   "outputs": [],
   "source": [
    "gc.collect()\n",
    "torch.cuda.empty_cache()\n",
    "torch.set_num_threads(2)"
   ]
  },
  {
   "cell_type": "code",
   "execution_count": 93,
   "metadata": {},
   "outputs": [
    {
     "data": {
      "text/plain": [
       "<numpy.errstate at 0x1ce1f3b8640>"
      ]
     },
     "execution_count": 93,
     "metadata": {},
     "output_type": "execute_result"
    }
   ],
   "source": [
    "np.errstate(invalid='ignore', divide='ignore')"
   ]
  },
  {
   "cell_type": "markdown",
   "metadata": {},
   "source": [
    "### 2. Load datasets from saved .npy files"
   ]
  },
  {
   "cell_type": "markdown",
   "metadata": {},
   "source": [
    "To collect data for this experiment, you can run the \"Collect Sensory Data\" button in the Pybullet simulation. This generates a predefined number of Gaussian grasps randomly generated from a base hand pose. Each individual grasp is considered as an individual experiment, and the data collected from this experiment is split into four, each stored in its own dataset.\n",
    "\n",
    "For all object models used in this experiment, each object has 4 datasets which include:\n",
    "- `depth_ds.npy` which stores the depth tactile data from the mounted DIGIT sensors\n",
    "- `color_ds.npy` which stores the colored (RGB) version of the depth tactile data from the mounted DIGIT sensors\n",
    "- `poses_ds.npy` which stores the randomly-generated 6d hand poses from the simulation\n",
    "- `outcomes_ds.npy` which stores the outcomes of each random pose"
   ]
  },
  {
   "cell_type": "markdown",
   "metadata": {},
   "source": [
    "In this notebook, we will use the following dataset combinations:\n",
    "- `tactile` only (depth + colour)\n",
    "- `visual` without geometric features\n",
    "- `visual` with geometric features\n",
    "- `multi-modal` consisting of `tactile` and `visual`\n",
    "- `complete` consisting of `tactile` and `visual` with geometric features"
   ]
  },
  {
   "cell_type": "code",
   "execution_count": 94,
   "metadata": {},
   "outputs": [],
   "source": [
    "root = \"../datasets/\""
   ]
  },
  {
   "cell_type": "code",
   "execution_count": 95,
   "metadata": {},
   "outputs": [],
   "source": [
    "object_names = [\"block1\", \"block2\", \"block3\", \"cylinder1\", \"cylinder2\", \"cylinder3\", \"mustard_bottle1\", \"mustard_bottle2\", \"mustard_bottle3\"]"
   ]
  },
  {
   "cell_type": "markdown",
   "metadata": {},
   "source": [
    "Load `.npy` datasets via `np.load()`"
   ]
  },
  {
   "cell_type": "code",
   "execution_count": 96,
   "metadata": {},
   "outputs": [],
   "source": [
    "depth_data = np.empty((0, 2, 160, 120))\n",
    "color_data = np.empty((0, 2, 160, 120, 3))\n",
    "poses_data = np.empty((0, 6))\n",
    "grasp_outcomes_data = np.empty((0,))\n",
    "\n",
    "for object_name in object_names:\n",
    "    # Construct the relative paths of each dataset and load them into the notebook\n",
    "    depth_data_temp = np.load(root + object_name + \"_ds/depth_ds.npy\", mmap_mode='r')\n",
    "    colour_data_temp = np.load(root + object_name + \"_ds/color_ds.npy\", mmap_mode='r')\n",
    "    poses_data_temp = np.load(root + object_name + \"_ds/poses_ds.npy\", mmap_mode='r')\n",
    "    grasp_labels_temp = np.load(root + object_name + \"_ds/grasp_outcomes.npy\", mmap_mode='r')\n",
    "\n",
    "    depth_data = np.append(depth_data, depth_data_temp, axis=0)\n",
    "    color_data = np.append(color_data, colour_data_temp, axis=0)\n",
    "    poses_data = np.append(poses_data, poses_data_temp, axis=0)\n",
    "    grasp_outcomes_data = np.append(grasp_outcomes_data, grasp_labels_temp, axis=0)"
   ]
  },
  {
   "cell_type": "code",
   "execution_count": 97,
   "metadata": {},
   "outputs": [],
   "source": [
    "del depth_data_temp, colour_data_temp, poses_data_temp, grasp_labels_temp\n",
    "torch.cuda.empty_cache()"
   ]
  },
  {
   "cell_type": "markdown",
   "metadata": {},
   "source": [
    "These datasets should all be in the form of $(N\\times...)$ where $N$ is the number of examples:"
   ]
  },
  {
   "cell_type": "code",
   "execution_count": 98,
   "metadata": {},
   "outputs": [
    {
     "name": "stdout",
     "output_type": "stream",
     "text": [
      "Shape of depth_data: (1440, 2, 160, 120)\n",
      "Shape of color_data: (1440, 2, 160, 120, 3)\n",
      "Shape of poses_data: (1440, 6)\n",
      "Shape of grasp_outcomes_data: (1440,)\n"
     ]
    }
   ],
   "source": [
    "print(f\"Shape of depth_data: {depth_data.shape}\")\n",
    "print(f\"Shape of color_data: {color_data.shape}\")\n",
    "print(f\"Shape of poses_data: {poses_data.shape}\")\n",
    "print(f\"Shape of grasp_outcomes_data: {grasp_outcomes_data.shape}\")"
   ]
  },
  {
   "cell_type": "markdown",
   "metadata": {},
   "source": [
    "Additionally, we confirm the number of successful and unsuccessful grasps recorded. This helps us in the next section to determine how many examples we should include for each class in order to produce a balanced dataset."
   ]
  },
  {
   "cell_type": "code",
   "execution_count": 99,
   "metadata": {},
   "outputs": [
    {
     "name": "stdout",
     "output_type": "stream",
     "text": [
      "# of sucessesful grasps: 720\n",
      "# of unsuccessful grasps: 720\n"
     ]
    }
   ],
   "source": [
    "print(f\"# of sucessesful grasps: {(grasp_outcomes_data == 1).sum()}\")\n",
    "print(f\"# of unsuccessful grasps: {(grasp_outcomes_data == 0).sum()}\")"
   ]
  },
  {
   "cell_type": "markdown",
   "metadata": {},
   "source": [
    "### 3. Preprocessing"
   ]
  },
  {
   "cell_type": "markdown",
   "metadata": {},
   "source": [
    "In this section, we create the required datasets specified from section 2, and normalise the datasets."
   ]
  },
  {
   "cell_type": "markdown",
   "metadata": {},
   "source": [
    "#### 3.1 Normalization"
   ]
  },
  {
   "cell_type": "code",
   "execution_count": 100,
   "metadata": {},
   "outputs": [],
   "source": [
    "def normalize(arr):\n",
    "    # Normalize & standardize each column\n",
    "    mean = np.mean(arr, axis=0)\n",
    "    std = np.std(arr, axis=0)\n",
    "    \n",
    "    arr = (arr - mean) / std\n",
    "    arr = np.nan_to_num(arr, 0)\n",
    "    arr[np.isinf(arr)] = 0\n",
    "    return arr"
   ]
  },
  {
   "cell_type": "markdown",
   "metadata": {},
   "source": [
    "Depth and colour data consists of pairs of tactile sensory readings. Thus, we concatenate each pair together into single images"
   ]
  },
  {
   "cell_type": "code",
   "execution_count": 101,
   "metadata": {},
   "outputs": [],
   "source": [
    "depth_data = np.concatenate((depth_data[:, 0], depth_data[:, 1]), axis=2)\n",
    "color_data = np.concatenate((color_data[:, 0], color_data[:, 1]), axis=2)"
   ]
  },
  {
   "cell_type": "code",
   "execution_count": 102,
   "metadata": {},
   "outputs": [],
   "source": [
    "depth_data = torch.from_numpy(normalize(depth_data))\n",
    "color_data = torch.from_numpy(normalize(color_data))\n",
    "visual_data = torch.from_numpy(np.nan_to_num(normalize(poses_data)))"
   ]
  },
  {
   "cell_type": "code",
   "execution_count": 103,
   "metadata": {},
   "outputs": [
    {
     "name": "stdout",
     "output_type": "stream",
     "text": [
      "Shape of depth_ds: torch.Size([1440, 160, 240])\n",
      "Shape of colour_ds: torch.Size([1440, 160, 240, 3])\n",
      "Shape of visual_ds: torch.Size([1440, 6])\n"
     ]
    }
   ],
   "source": [
    "print(f\"Shape of depth_ds: {depth_data.shape}\")\n",
    "print(f\"Shape of colour_ds: {color_data.shape}\")\n",
    "print(f\"Shape of visual_ds: {visual_data.shape}\")"
   ]
  },
  {
   "cell_type": "markdown",
   "metadata": {},
   "source": [
    "Create the tactile dataset"
   ]
  },
  {
   "cell_type": "code",
   "execution_count": 104,
   "metadata": {},
   "outputs": [],
   "source": [
    "tactile_data = torch.cat([depth_data.unsqueeze(-1), color_data], dim=-1)\n",
    "tactile_data = torch.nan_to_num(tactile_data)"
   ]
  },
  {
   "cell_type": "code",
   "execution_count": 105,
   "metadata": {},
   "outputs": [
    {
     "name": "stdout",
     "output_type": "stream",
     "text": [
      "Shape of tactile_ds: torch.Size([1440, 160, 240, 4])\n"
     ]
    }
   ],
   "source": [
    "print(f\"Shape of tactile_ds: {tactile_data.shape}\")"
   ]
  },
  {
   "cell_type": "code",
   "execution_count": 106,
   "metadata": {},
   "outputs": [],
   "source": [
    "del depth_data, color_data, poses_data\n",
    "torch.cuda.empty_cache()"
   ]
  },
  {
   "cell_type": "markdown",
   "metadata": {},
   "source": [
    "#### Dimensionality reduction"
   ]
  },
  {
   "cell_type": "code",
   "execution_count": 107,
   "metadata": {},
   "outputs": [],
   "source": [
    "# A simple convolutional neural network that extracts features from an input tensor\n",
    "class FeatureExtractorCNN(nn.Module):\n",
    "    def __init__(self):\n",
    "        super(FeatureExtractorCNN, self).__init__()\n",
    "        self.conv1 = nn.Conv2d(4, 16, kernel_size=3, stride=1, padding=1)\n",
    "        self.conv2 = nn.Conv2d(16, 64, kernel_size=3, stride=1, padding=1)\n",
    "        self.conv3 = nn.Conv2d(64, 128, kernel_size=3, stride=1, padding=1)\n",
    "        self.conv4 = nn.Conv2d(128, 256, kernel_size=3, stride=1, padding=1)\n",
    "\n",
    "        self.pool = nn.MaxPool2d(kernel_size=3)\n",
    "\n",
    "\n",
    "    def forward(self, x):\n",
    "        x = self.conv1(x)\n",
    "        x = nn.functional.relu(x)\n",
    "        x = self.pool(x)\n",
    "\n",
    "        x = self.conv2(x)\n",
    "        x = nn.functional.relu(x)\n",
    "        x = self.pool(x)\n",
    "        \n",
    "        x = self.conv3(x)\n",
    "        x = nn.functional.relu(x)\n",
    "        x = self.pool(x)\n",
    "\n",
    "        x = self.conv4(x)\n",
    "        x = nn.functional.relu(x)\n",
    "        x = self.pool(x)\n",
    "\n",
    "        return x"
   ]
  },
  {
   "cell_type": "code",
   "execution_count": 108,
   "metadata": {},
   "outputs": [
    {
     "data": {
      "text/plain": [
       "torch.Size([1440, 512])"
      ]
     },
     "execution_count": 108,
     "metadata": {},
     "output_type": "execute_result"
    }
   ],
   "source": [
    "# Preprocess data using CNN feature extraction\n",
    "cnn = FeatureExtractorCNN()\n",
    "cnn_tactile = torch.cat([cnn(img.float().permute(2,0,1)).unsqueeze(0) for img in tactile_data])\n",
    "cnn_tactile = cnn_tactile.reshape(cnn_tactile.shape[0], -1)\n",
    "cnn_tactile.shape"
   ]
  },
  {
   "cell_type": "code",
   "execution_count": 109,
   "metadata": {},
   "outputs": [],
   "source": [
    "del tactile_data"
   ]
  },
  {
   "cell_type": "markdown",
   "metadata": {},
   "source": [
    "### 4. Testing different data representations"
   ]
  },
  {
   "cell_type": "markdown",
   "metadata": {},
   "source": [
    "In our MLP model, there are two fully connected (dense) layers, each with an activation function (ReLU for the first layer and no activation for the second layer). The input size, hidden size, and output size are parameters that need to be specified when creating an instance of the MLP."
   ]
  },
  {
   "cell_type": "code",
   "execution_count": 110,
   "metadata": {},
   "outputs": [],
   "source": [
    "class MLP(nn.Module):\n",
    "    def __init__(self, input_size, hidden_size, output_size):\n",
    "        super(MLP, self).__init__()\n",
    "        self.fc1 = nn.Linear(input_size, hidden_size)\n",
    "        self.fc2 = nn.Linear(hidden_size, hidden_size)\n",
    "        self.fc3 = nn.Linear(hidden_size, output_size)\n",
    "        self.relu = nn.ReLU()\n",
    "\n",
    "        self.criterion = nn.BCEWithLogitsLoss()\n",
    "        self.optimizer = optim.Adam(self.parameters())\n",
    "\n",
    "    def forward(self, x):\n",
    "        x = self.fc1(x)\n",
    "        x = self.relu(x)\n",
    "        x = self.fc2(x)\n",
    "        x = self.relu(x)\n",
    "        x = self.fc3(x)\n",
    "        return x\n",
    "        \n",
    "    def train_mlp(self, epochs, X_train, y_train):\n",
    "        self.losses = []\n",
    "        for i in range(epochs):\n",
    "            inputs = torch.from_numpy(X_train).float()\n",
    "            labels = torch.from_numpy(y_train).float().view(-1, 1)\n",
    "\n",
    "            # Zero the gradients\n",
    "            self.optimizer.zero_grad()\n",
    "\n",
    "            # Forward pass\n",
    "            preds = self(inputs)\n",
    "            loss = self.criterion(preds, labels)\n",
    "            self.losses.append(loss.item())\n",
    "\n",
    "            # Backward pass and optimization\n",
    "            loss.backward()\n",
    "            self.optimizer.step()\n",
    "\n",
    "            if i % 10 == 0:\n",
    "                torch.cuda.empty_cache()\n",
    "\n",
    "    def eval_mlp(self, X_test, y_test, verbose=False):\n",
    "        # Evaluate the performance of the model on the testing set\n",
    "        with torch.no_grad():\n",
    "            inputs = torch.from_numpy(X_test).float()\n",
    "            labels = torch.from_numpy(y_test).float().view(-1, 1)\n",
    "\n",
    "            # Forward pass\n",
    "            final_preds = self(inputs)\n",
    "            predicted = (final_preds > 0).float()\n",
    "            \n",
    "            # Confusion matrix\n",
    "            if verbose:\n",
    "                cm = confusion_matrix(y_test, predicted)\n",
    "                sns.heatmap(cm, linewidths=1, annot=True, fmt='g')\n",
    "\n",
    "            # Accuracy\n",
    "            accuracy = (predicted == labels).float().mean()\n",
    "            return round(accuracy.item() * 100, 2)\n",
    "    \n",
    "    def plot_losses(self):\n",
    "        plt.plot(self.losses)\n",
    "        plt.xlabel('Epochs')\n",
    "        plt.ylabel('Training Loss')\n",
    "        plt.show()"
   ]
  },
  {
   "cell_type": "markdown",
   "metadata": {},
   "source": [
    "#### 4a. Testing datatset combinations (CNN dimensionality-reduced) without geometric features"
   ]
  },
  {
   "cell_type": "code",
   "execution_count": 111,
   "metadata": {},
   "outputs": [],
   "source": [
    "def train_mlp_multitrial(dataset, grasp_outcomes_data, trials_count: int = 5, sampling=False):\n",
    "    accuracies = np.empty((trials_count, ))\n",
    "    dataset = dataset.detach().numpy() if isinstance(dataset, torch.Tensor) else dataset\n",
    "\n",
    "    for i in range(trials_count):\n",
    "        X_train, X_test, y_train, y_test = train_test_split(dataset, grasp_outcomes_data, test_size=0.2)\n",
    "        mlp = MLP(input_size=X_train.shape[1], hidden_size=64, output_size=1)\n",
    "        mlp.train_mlp(epochs=500, X_train=X_train, y_train=y_train)\n",
    "        accuracy = mlp.eval_mlp(X_test=X_test, y_test=y_test)\n",
    "        accuracies[i] = accuracy\n",
    "\n",
    "        torch.cuda.empty_cache()\n",
    "    \n",
    "    accuracy_mean = np.mean(accuracies)\n",
    "    accuracy_std = np.std(accuracies)\n",
    "    return accuracies, accuracy_mean, accuracy_std"
   ]
  },
  {
   "cell_type": "markdown",
   "metadata": {},
   "source": [
    "Train Tactile-only dataset + CNN"
   ]
  },
  {
   "cell_type": "code",
   "execution_count": 112,
   "metadata": {},
   "outputs": [],
   "source": [
    "accuracies, accuracy_mean, accuracy_std = train_mlp_multitrial(cnn_tactile, grasp_outcomes_data, trials_count=5)"
   ]
  },
  {
   "cell_type": "code",
   "execution_count": 113,
   "metadata": {},
   "outputs": [
    {
     "name": "stdout",
     "output_type": "stream",
     "text": [
      "Tactile-only MLP accuracies: [72.570 68.750 69.100 70.490 72.920]\n",
      " Mean: 70.77 | Std: 1.72\n"
     ]
    }
   ],
   "source": [
    "print(f\"Tactile-only MLP accuracies: {accuracies}\\n Mean: {accuracy_mean:.2f} | Std: {accuracy_std:.2f}\")"
   ]
  },
  {
   "cell_type": "code",
   "execution_count": 114,
   "metadata": {},
   "outputs": [],
   "source": [
    "torch.cuda.empty_cache()"
   ]
  },
  {
   "cell_type": "markdown",
   "metadata": {},
   "source": [
    "Train Visual-only dataset + CNN"
   ]
  },
  {
   "cell_type": "code",
   "execution_count": 115,
   "metadata": {},
   "outputs": [],
   "source": [
    "accuracies, accuracy_mean, accuracy_std = train_mlp_multitrial(visual_data, grasp_outcomes_data, trials_count=5)"
   ]
  },
  {
   "cell_type": "code",
   "execution_count": 116,
   "metadata": {},
   "outputs": [
    {
     "name": "stdout",
     "output_type": "stream",
     "text": [
      "Visual-only MLP accuracies: [63.540 59.030 66.320 56.940 56.600]\n",
      " Mean: 60.49 | Std: 3.83\n"
     ]
    }
   ],
   "source": [
    "print(f\"Visual-only MLP accuracies: {accuracies}\\n Mean: {accuracy_mean:.2f} | Std: {accuracy_std:.2f}\")"
   ]
  },
  {
   "cell_type": "code",
   "execution_count": 117,
   "metadata": {},
   "outputs": [],
   "source": [
    "torch.cuda.empty_cache()"
   ]
  },
  {
   "cell_type": "markdown",
   "metadata": {},
   "source": [
    "Train Multi-modal dataset (tactile + visual) + CNN"
   ]
  },
  {
   "cell_type": "code",
   "execution_count": 118,
   "metadata": {},
   "outputs": [],
   "source": [
    "# We simply combine the cnn-processed tactile data (from Section 5.3.1) with the visual data\n",
    "cnn_complete = torch.cat([cnn_tactile.reshape(cnn_tactile.shape[0], -1), visual_data], dim=1)"
   ]
  },
  {
   "cell_type": "code",
   "execution_count": 119,
   "metadata": {},
   "outputs": [],
   "source": [
    "accuracies, accuracy_mean, accuracy_std = train_mlp_multitrial(cnn_complete, grasp_outcomes_data, trials_count=5)"
   ]
  },
  {
   "cell_type": "code",
   "execution_count": 120,
   "metadata": {},
   "outputs": [
    {
     "name": "stdout",
     "output_type": "stream",
     "text": [
      "Multi-modal MLP accuracies: [76.740 72.570 77.080 78.120 76.740]\n",
      " Mean: 76.25 | Std: 1.91\n"
     ]
    }
   ],
   "source": [
    "print(f\"Multi-modal MLP accuracies: {accuracies}\\n Mean: {accuracy_mean:.2f} | Std: {accuracy_std:.2f}\")"
   ]
  },
  {
   "cell_type": "code",
   "execution_count": 121,
   "metadata": {},
   "outputs": [],
   "source": [
    "del cnn_complete\n",
    "torch.cuda.empty_cache()"
   ]
  },
  {
   "cell_type": "markdown",
   "metadata": {},
   "source": [
    "### 5. Determining impact of geometric features of objects on MLP accuracy\n",
    "This section aims to determine the capability of the selected object features (principal components) in identifying primitive object classes."
   ]
  },
  {
   "cell_type": "code",
   "execution_count": 122,
   "metadata": {},
   "outputs": [],
   "source": [
    "from sklearn.decomposition import PCA\n",
    "from sklearn.cluster import KMeans, SpectralClustering\n",
    "from sklearn.preprocessing import StandardScaler\n",
    "\n",
    "\n",
    "np.set_printoptions(precision=2, formatter={'float_kind': \"{:.3f}\".format})"
   ]
  },
  {
   "cell_type": "markdown",
   "metadata": {},
   "source": [
    "#### 5a. Clustering for object features using PCA"
   ]
  },
  {
   "cell_type": "markdown",
   "metadata": {},
   "source": [
    "Loading object features"
   ]
  },
  {
   "cell_type": "code",
   "execution_count": 123,
   "metadata": {},
   "outputs": [],
   "source": [
    "### Object features\n",
    "block_features = np.array([\n",
    "    [0.025, 0.05, 0.05, 0., 0., 0., 0., 0., 0.],\n",
    "    [0.03, 0.025, 0.045, 0., 0., 0., 0., 0., 0.],\n",
    "    [0.05, 0.025, 0.04, 0., 0., 0., 0., 0., 0.],\n",
    "    # [8251.86033209, 380793.32718545, 8251.86033209, 380793.32718545, 7340.53467028, 323264.58605476],\n",
    "    # [17358.04440407, 46879.37104777, 25111.58320378, 60764.07706612, 39914.37898048, 46661.69902607],\n",
    "    # [8941.59628842, 178701.35111026, 6592.38039092, 211671.05821614, 37993.39435821, 115665.30894101]\n",
    "])\n",
    "\n",
    "cylinder_features = np.array([\n",
    "    [0.04, 0.04, 0.05, 950.21606561, 14540.28434464, 950.21606561, 14540.28434464, 950.21606561, 14540.28434464],\n",
    "    [0.045, 0.045, 0.035, 750.78800246, 11488.6197291, 750.78800246, 11488.6197291, 750.78800246, 11488.6197291],\n",
    "    [0.034, 0.034, 0.045, 1315.17794549, 20124.96103064, 1315.17794549, 20124.96103064, 1315.17794549, 20124.96103064]\n",
    "    # [1863.04007165, 4445.05882512, 3444.58243043, 116245.56798876, 3444.58243043, 116245.56798876],\n",
    "    # [25350.56805999, 90897.43464835, 25130.96875937, 90779.57624788, 40959.86108762, 65384.53394801],\n",
    "    # [8129.18609508, 13671.31408669,  5531.60803704, 12058.88586025, 7112.6668489 , 40254.7491457]\n",
    "])\n",
    "\n",
    "bottle_features = np.array([\n",
    "    [0.06, 0.04, 0.04, 43195.64459266, 114198.0441697 , 45229.93706864, 135651.61794731, 75768.06626518,  83802.00991944],\n",
    "    [0.04, 0.06, 0.06, 68993.34322089, 220902.86884084, 75354.47923164, 239160.99530455, 109695.41304924, 147938.06047763],\n",
    "    [0.04, 0.06, 0.04, 61744.75459905, 168925.8805044 , 68143.84372052, 148775.07141178, 73102.67367022, 102953.40831915]\n",
    "    # [58743.54544376, 155331.31241432, 64091.03332161, 156228.08639407, 78705.15565092, 107053.40095796],\n",
    "    # [50165.53259195, 64214.77371792, 38058.77302717, 82455.45932214, 53901.08662624, 65393.21442221],\n",
    "    # [61150.93285712, 137872.41617152,  59952.3159986 , 132257.80102161, 83815.39602093, 134698.94798265]\n",
    "])\n",
    "\n",
    "object_names = {0: 'cylinder', 1: 'block', 2: 'bottle'}"
   ]
  },
  {
   "cell_type": "markdown",
   "metadata": {},
   "source": [
    "Feature transformation - concatenating features together"
   ]
  },
  {
   "cell_type": "code",
   "execution_count": 124,
   "metadata": {},
   "outputs": [],
   "source": [
    "object_features = (block_features, cylinder_features, bottle_features)\n",
    "features = np.concatenate(object_features)\n",
    "labels = np.array([0, 0, 0, 1, 1, 1, 2, 2, 2])"
   ]
  },
  {
   "cell_type": "markdown",
   "metadata": {},
   "source": [
    "Standardize the data"
   ]
  },
  {
   "cell_type": "code",
   "execution_count": 125,
   "metadata": {},
   "outputs": [],
   "source": [
    "scaler = StandardScaler()\n",
    "features = scaler.fit_transform(features)"
   ]
  },
  {
   "cell_type": "markdown",
   "metadata": {},
   "source": [
    "PCA"
   ]
  },
  {
   "cell_type": "code",
   "execution_count": 126,
   "metadata": {},
   "outputs": [],
   "source": [
    "def pca(data, k, verbose=True):\n",
    "    pca = PCA(n_components=k)\n",
    "    pca.fit(data)\n",
    "\n",
    "    if verbose:\n",
    "        print(f\"Variance captured: {sum(pca.explained_variance_ratio_)*100:.2f}%\")\n",
    "    return pca.transform(data)"
   ]
  },
  {
   "cell_type": "markdown",
   "metadata": {},
   "source": [
    "Determine the number of components to use"
   ]
  },
  {
   "cell_type": "code",
   "execution_count": 127,
   "metadata": {},
   "outputs": [
    {
     "name": "stdout",
     "output_type": "stream",
     "text": [
      "Variance captured: 74.58%\n",
      "Variance captured: 91.43%\n",
      "Variance captured: 97.34%\n",
      "Variance captured: 99.65%\n"
     ]
    }
   ],
   "source": [
    "for i in range(1, 5):\n",
    "    pca_res = pca(features, k=i)"
   ]
  },
  {
   "cell_type": "code",
   "execution_count": 128,
   "metadata": {},
   "outputs": [
    {
     "name": "stdout",
     "output_type": "stream",
     "text": [
      "Variance captured: 97.34%\n"
     ]
    },
    {
     "data": {
      "image/png": "[encoded data removed]",
      "text/plain": [
       "<Figure size 640x480 with 1 Axes>"
      ]
     },
     "metadata": {},
     "output_type": "display_data"
    }
   ],
   "source": [
    "### Plot 3-feature PCA results\n",
    "pca3d = pca(features, k=3)\n",
    "\n",
    "fig = plt.figure()\n",
    "ax = fig.add_subplot(111, projection='3d')\n",
    "\n",
    "colors = ['r', 'g', 'b']\n",
    "for i, c in zip(np.unique(labels), colors):\n",
    "    ax.scatter(pca3d[labels == i, 0], pca3d[labels == i, 1], pca3d[labels == i, 2], c=c, label=object_names[i])\n",
    "\n",
    "ax.set_xlabel('Component 1')\n",
    "ax.set_ylabel('Component 2')\n",
    "ax.set_zlabel('Component 3')\n",
    "ax.set_aspect('equal', 'box')\n",
    "ax.legend()\n",
    "plt.show()"
   ]
  },
  {
   "cell_type": "markdown",
   "metadata": {},
   "source": [
    "#### 5b. MLP: Dataset combination 4: Visual (EE pose and geometric features) + CNN"
   ]
  },
  {
   "cell_type": "code",
   "execution_count": 129,
   "metadata": {},
   "outputs": [
    {
     "data": {
      "text/plain": [
       "torch.Size([1440, 15])"
      ]
     },
     "execution_count": 129,
     "metadata": {},
     "output_type": "execute_result"
    }
   ],
   "source": [
    "blocks = np.repeat(np.concatenate(object_features), 160, axis=0)\n",
    "\n",
    "visual_data = np.concatenate((visual_data, blocks), axis=1)\n",
    "visual_data = torch.from_numpy(np.nan_to_num(normalize(visual_data)))\n",
    "visual_data.shape"
   ]
  },
  {
   "cell_type": "code",
   "execution_count": 130,
   "metadata": {},
   "outputs": [],
   "source": [
    "del object_features, blocks"
   ]
  },
  {
   "cell_type": "markdown",
   "metadata": {},
   "source": [
    "Train Visual-only (EE pose + geometric features) + CNN"
   ]
  },
  {
   "cell_type": "code",
   "execution_count": 131,
   "metadata": {},
   "outputs": [],
   "source": [
    "accuracies, accuracy_mean, accuracy_std = train_mlp_multitrial(visual_data, grasp_outcomes_data, trials_count=5)"
   ]
  },
  {
   "cell_type": "code",
   "execution_count": 132,
   "metadata": {},
   "outputs": [
    {
     "name": "stdout",
     "output_type": "stream",
     "text": [
      "Visual data (EE pose + geo) MLP accuracies: [61.460 62.850 62.850 62.850 60.420]\n",
      " Mean: 62.09 | Std: 0.99\n"
     ]
    }
   ],
   "source": [
    "print(f\"Visual data (EE pose + geo) MLP accuracies: {accuracies}\\n Mean: {accuracy_mean:.2f} | Std: {accuracy_std:.2f}\")"
   ]
  },
  {
   "cell_type": "markdown",
   "metadata": {},
   "source": [
    "#### 5c. MLP: Dataset combination 5: Tactile + Visual (EE pose and geometric features) + CNN"
   ]
  },
  {
   "cell_type": "code",
   "execution_count": 133,
   "metadata": {},
   "outputs": [],
   "source": [
    "torch.cuda.empty_cache()"
   ]
  },
  {
   "cell_type": "code",
   "execution_count": 134,
   "metadata": {},
   "outputs": [],
   "source": [
    "final_dataset = torch.cat((cnn_tactile, visual_data), dim=1)"
   ]
  },
  {
   "cell_type": "code",
   "execution_count": 135,
   "metadata": {},
   "outputs": [],
   "source": [
    "accuracies, accuracy_mean, accuracy_std = train_mlp_multitrial(final_dataset, grasp_outcomes_data)"
   ]
  },
  {
   "cell_type": "code",
   "execution_count": 136,
   "metadata": {},
   "outputs": [
    {
     "name": "stdout",
     "output_type": "stream",
     "text": [
      "Final dataset (no PCA) MLP accuracies: [75.690 74.650 75.350 70.140 78.120]\n",
      " Mean: 74.79 | Std: 2.60\n"
     ]
    }
   ],
   "source": [
    "print(f\"Final dataset (no PCA) MLP accuracies: {accuracies}\\n Mean: {accuracy_mean:.2f} | Std: {accuracy_std:.2f}\")"
   ]
  },
  {
   "cell_type": "code",
   "execution_count": 137,
   "metadata": {},
   "outputs": [],
   "source": [
    "del cnn_tactile"
   ]
  },
  {
   "cell_type": "markdown",
   "metadata": {},
   "source": [
    "#### 5d. MLP: Selecting number of components for PCA (with dataset combination 5)"
   ]
  },
  {
   "cell_type": "markdown",
   "metadata": {},
   "source": [
    "We conduct the following experiment to determine the optimal value of $k$ for PCA:\n",
    "1. Train the MLP from $k=1$ to $k=20$\n",
    "2. Repeat 1 for 5 times to find the average accuracy for each $k$, and choose $k$ value for the highest mean accuracy"
   ]
  },
  {
   "cell_type": "code",
   "execution_count": 138,
   "metadata": {},
   "outputs": [],
   "source": [
    "MIN_K, MAX_K = 1, 30"
   ]
  },
  {
   "cell_type": "code",
   "execution_count": 139,
   "metadata": {},
   "outputs": [
    {
     "name": "stdout",
     "output_type": "stream",
     "text": [
      "Completed PCA training for k=1 components\n",
      "Completed PCA training for k=2 components\n",
      "Completed PCA training for k=3 components\n",
      "Completed PCA training for k=4 components\n",
      "Completed PCA training for k=5 components\n",
      "Completed PCA training for k=6 components\n",
      "Completed PCA training for k=7 components\n",
      "Completed PCA training for k=8 components\n",
      "Completed PCA training for k=9 components\n",
      "Completed PCA training for k=10 components\n",
      "Completed PCA training for k=11 components\n",
      "Completed PCA training for k=12 components\n",
      "Completed PCA training for k=13 components\n",
      "Completed PCA training for k=14 components\n",
      "Completed PCA training for k=15 components\n",
      "Completed PCA training for k=16 components\n",
      "Completed PCA training for k=17 components\n",
      "Completed PCA training for k=18 components\n",
      "Completed PCA training for k=19 components\n",
      "Completed PCA training for k=20 components\n",
      "Completed PCA training for k=21 components\n",
      "Completed PCA training for k=22 components\n",
      "Completed PCA training for k=23 components\n",
      "Completed PCA training for k=24 components\n",
      "Completed PCA training for k=25 components\n",
      "Completed PCA training for k=26 components\n",
      "Completed PCA training for k=27 components\n",
      "Completed PCA training for k=28 components\n",
      "Completed PCA training for k=29 components\n",
      "Completed PCA training for k=30 components\n"
     ]
    }
   ],
   "source": [
    "pca_accuracies_mean = []\n",
    "pca_accuracies_std = []\n",
    "for i in range(MIN_K, MAX_K+1):\n",
    "    transformed_dataset = pca(final_dataset.detach().numpy(), k=i, verbose=False)\n",
    "    transformed_dataset = torch.from_numpy(transformed_dataset)\n",
    "    accuracies, accuracy_mean, accuracy_std = train_mlp_multitrial(transformed_dataset, grasp_outcomes_data)\n",
    "    pca_accuracies_mean.append(accuracy_mean)\n",
    "    pca_accuracies_std.append(accuracy_std)\n",
    "    torch.cuda.empty_cache()\n",
    "    print(f\"Completed PCA training for k={i} components\")"
   ]
  },
  {
   "cell_type": "code",
   "execution_count": 140,
   "metadata": {},
   "outputs": [],
   "source": [
    "del transformed_dataset"
   ]
  },
  {
   "cell_type": "code",
   "execution_count": 141,
   "metadata": {},
   "outputs": [],
   "source": [
    "del visual_data"
   ]
  },
  {
   "cell_type": "markdown",
   "metadata": {},
   "source": [
    "Calculate the average accuracies for each $k$"
   ]
  },
  {
   "cell_type": "code",
   "execution_count": 142,
   "metadata": {},
   "outputs": [],
   "source": [
    "pca_accuracies_mean = np.array(pca_accuracies_mean)\n",
    "pca_accuracies_std = np.array(pca_accuracies_std)"
   ]
  },
  {
   "cell_type": "code",
   "execution_count": 143,
   "metadata": {},
   "outputs": [
    {
     "name": "stdout",
     "output_type": "stream",
     "text": [
      "Number of components for PCA: 21\n"
     ]
    }
   ],
   "source": [
    "K = pca_accuracies_mean.argmax(axis=0)\n",
    "print(f\"Number of components for PCA: {K}\")"
   ]
  },
  {
   "cell_type": "code",
   "execution_count": 144,
   "metadata": {},
   "outputs": [
    {
     "data": {
      "image/png": "[encoded data removed]",
      "text/plain": [
       "<Figure size 640x480 with 1 Axes>"
      ]
     },
     "metadata": {},
     "output_type": "display_data"
    }
   ],
   "source": [
    "x = np.arange(MIN_K, MAX_K+1)\n",
    "plt.errorbar(x, pca_accuracies_mean, yerr=pca_accuracies_std, fmt='o', markersize=5, ecolor='red', capsize=3, capthick=1)\n",
    "plt.grid(True)\n",
    "plt.xlabel(\"Number of principal components\")\n",
    "plt.xticks(np.arange(MIN_K, MAX_K+1, step=2))\n",
    "plt.ylabel(\"Mean MLP accuracy\")\n",
    "plt.show()"
   ]
  },
  {
   "cell_type": "code",
   "execution_count": 145,
   "metadata": {},
   "outputs": [
    {
     "data": {
      "image/png": "[encoded data removed]",
      "text/plain": [
       "<Figure size 640x480 with 1 Axes>"
      ]
     },
     "metadata": {},
     "output_type": "display_data"
    }
   ],
   "source": [
    "x = np.arange(MIN_K, MAX_K+1, step=1)\n",
    "plt.plot(x, pca_accuracies_mean)\n",
    "plt.fill_between(x, pca_accuracies_mean-pca_accuracies_std, pca_accuracies_mean+pca_accuracies_std, alpha=0.2)\n",
    "plt.grid(True)\n",
    "plt.xlabel(\"Number of principal components\")\n",
    "plt.xticks(np.arange(MIN_K, MAX_K+1, step=2))\n",
    "plt.ylabel(\"Mean MLP accuracy\")\n",
    "plt.show()"
   ]
  },
  {
   "cell_type": "code",
   "execution_count": 146,
   "metadata": {},
   "outputs": [
    {
     "name": "stdout",
     "output_type": "stream",
     "text": [
      "Highest mean accuracy based on selected K principal components: 76.73%\n"
     ]
    }
   ],
   "source": [
    "print(f\"Highest mean accuracy based on selected K principal components: {pca_accuracies_mean[K]:.2f}%\")"
   ]
  },
  {
   "cell_type": "markdown",
   "metadata": {},
   "source": [
    "### 6. Experiments"
   ]
  },
  {
   "cell_type": "markdown",
   "metadata": {},
   "source": [
    "We update the train_mlp_multitrial function to accomodate pre-defined training and testing datasets"
   ]
  },
  {
   "cell_type": "code",
   "execution_count": 147,
   "metadata": {},
   "outputs": [],
   "source": [
    "def train_mlp_multitrial2(X_train, X_test, y_train, y_test, trials_count: int = 5):\n",
    "    accuracies = np.empty((trials_count, ))\n",
    "\n",
    "    for i in range(trials_count):\n",
    "        mlp = MLP(input_size=X_train.shape[1], hidden_size=64, output_size=1)\n",
    "        mlp.train_mlp(epochs=500, X_train=X_train, y_train=y_train)\n",
    "        accuracy = mlp.eval_mlp(X_test=X_test, y_test=y_test)\n",
    "        accuracies[i] = accuracy\n",
    "\n",
    "        torch.cuda.empty_cache()\n",
    "    \n",
    "    accuracy_mean = np.mean(accuracies)\n",
    "    accuracy_std = np.std(accuracies)\n",
    "    return accuracies, accuracy_mean, accuracy_std"
   ]
  },
  {
   "cell_type": "markdown",
   "metadata": {},
   "source": [
    "#### 6.1 Train MLP on 2 blocks, test on remaining block\n",
    "Objective: see MLP's robustness"
   ]
  },
  {
   "cell_type": "code",
   "execution_count": 148,
   "metadata": {},
   "outputs": [],
   "source": [
    "combinations = [\n",
    "    [[1, 2], [3]],\n",
    "    [[1, 3], [2]],\n",
    "    [[2, 3], [1]]\n",
    "]\n",
    "\n",
    "exp1_accuracies_mean = []\n",
    "exp1_accuracies_std = []"
   ]
  },
  {
   "cell_type": "code",
   "execution_count": 149,
   "metadata": {},
   "outputs": [],
   "source": [
    "final_dataset = final_dataset.detach().numpy()\n",
    "\n",
    "for i in range(3):  # For each primitive object type (box, cylinder, bottle)\n",
    "    stidx = 480 * i # Starting index to slice final dataset\n",
    "    for combination in combinations:\n",
    "        training, testing = combination[0], combination[1]\n",
    "        X_train1 = final_dataset[(stidx + (training[0] - 1) * 160 + 1):(stidx + (training[0] * 160))]\n",
    "        X_train2 = final_dataset[(stidx + (training[1] - 1) * 160 + 1):(stidx + (training[1] * 160))]\n",
    "        X_train = np.vstack((X_train1, X_train2))\n",
    "\n",
    "        y_train1 = grasp_outcomes_data[(stidx + (training[0] - 1) * 160 + 1):(stidx + (training[0] * 160))]\n",
    "        y_train2 = grasp_outcomes_data[(stidx + (training[1] - 1) * 160 + 1):(stidx + (training[1] * 160))]\n",
    "        y_train = np.concatenate((y_train1, y_train2))\n",
    "        \n",
    "\n",
    "        X_test = final_dataset[(stidx + (testing[0] - 1) * 160 + 1):(stidx + (testing[0] * 160))]\n",
    "        y_test = grasp_outcomes_data[stidx + (testing[0] - 1) * 160 + 1:stidx + (testing[0] * 160)]\n",
    "        accuracies, accuracy_mean, accuracy_std = train_mlp_multitrial2(X_train, X_test, y_train, y_test)\n",
    "        exp1_accuracies_mean.append(accuracy_mean)\n",
    "        exp1_accuracies_std.append(accuracy_std)\n",
    "        torch.cuda.empty_cache()"
   ]
  },
  {
   "cell_type": "code",
   "execution_count": 150,
   "metadata": {},
   "outputs": [],
   "source": [
    "del X_train, X_test, y_train, y_test, training, testing, combination, combinations"
   ]
  },
  {
   "cell_type": "code",
   "execution_count": 151,
   "metadata": {},
   "outputs": [],
   "source": [
    "exp1_accuracies_mean = np.array(exp1_accuracies_mean)\n",
    "exp1_accuracies_std = np.array(exp1_accuracies_std)"
   ]
  },
  {
   "cell_type": "code",
   "execution_count": 152,
   "metadata": {},
   "outputs": [
    {
     "data": {
      "text/plain": [
       "array([51.696, 67.798, 56.224, 53.460, 57.736, 58.994, 53.962, 56.978,\n",
       "       50.310])"
      ]
     },
     "execution_count": 152,
     "metadata": {},
     "output_type": "execute_result"
    }
   ],
   "source": [
    "exp1_accuracies_mean"
   ]
  },
  {
   "cell_type": "code",
   "execution_count": 153,
   "metadata": {},
   "outputs": [
    {
     "data": {
      "text/plain": [
       "array([1.084, 2.651, 2.200, 1.054, 2.044, 1.459, 1.151, 0.642, 0.000])"
      ]
     },
     "execution_count": 153,
     "metadata": {},
     "output_type": "execute_result"
    }
   ],
   "source": [
    "exp1_accuracies_std"
   ]
  },
  {
   "cell_type": "markdown",
   "metadata": {},
   "source": [
    "#### 6.2 Train MLP on randomly sampled subset of all objects\n",
    "Objective: see influence of dataset size on accuracy;"
   ]
  },
  {
   "cell_type": "markdown",
   "metadata": {},
   "source": [
    "Randomly sample a dataset of the specified size without shuffling the dataset."
   ]
  },
  {
   "cell_type": "code",
   "execution_count": 154,
   "metadata": {},
   "outputs": [],
   "source": [
    "def consistent_sampling(dataset1, dataset2, input_size):\n",
    "    num_rows = len(dataset1)\n",
    "    indices = np.random.choice(len(dataset1), input_size, replace=False)\n",
    "    samples1, samples2 = [], []\n",
    "    for i in indices:\n",
    "        samples1.append(dataset1[i])\n",
    "        samples2.append(dataset2[i])\n",
    "    \n",
    "    samples1 = np.stack(samples1, axis=0)\n",
    "    samples2 = np.stack(samples2, axis=0)\n",
    "    return samples1, samples2"
   ]
  },
  {
   "cell_type": "code",
   "execution_count": 155,
   "metadata": {},
   "outputs": [],
   "source": [
    "exp2_accuracies = []\n",
    "exp2_accuracies_mean = []\n",
    "exp2_accuracies_std = []\n",
    "\n",
    "for input_size in range(100, 1500, 100):\n",
    "    dataset, grasp_labels = consistent_sampling(final_dataset, grasp_outcomes_data, input_size=input_size)\n",
    "    accuracies, accuracy_mean, accuracy_std = train_mlp_multitrial(dataset, grasp_labels)\n",
    "    exp2_accuracies_mean.append(accuracy_mean)\n",
    "    exp2_accuracies_std.append(accuracy_std)"
   ]
  },
  {
   "cell_type": "code",
   "execution_count": 156,
   "metadata": {},
   "outputs": [
    {
     "data": {
      "text/plain": [
       "array([7.071, 5.099, 3.859, 3.953, 4.940, 3.750, 1.160, 3.909, 2.842,\n",
       "       3.891, 0.760, 1.658, 2.531, 1.470])"
      ]
     },
     "execution_count": 156,
     "metadata": {},
     "output_type": "execute_result"
    }
   ],
   "source": [
    "exp2_accuracies_mean = np.array(exp2_accuracies_mean)\n",
    "exp2_accuracies_std = np.array(exp2_accuracies_std)\n",
    "exp2_accuracies_std"
   ]
  },
  {
   "cell_type": "code",
   "execution_count": 157,
   "metadata": {},
   "outputs": [
    {
     "data": {
      "image/png": "[encoded data removed]",
      "text/plain": [
       "<Figure size 640x480 with 1 Axes>"
      ]
     },
     "metadata": {},
     "output_type": "display_data"
    }
   ],
   "source": [
    "x = np.arange(100, 1500, step=100)\n",
    "plt.plot(x, exp2_accuracies_mean)\n",
    "plt.fill_between(x, exp2_accuracies_mean-exp2_accuracies_std, exp2_accuracies_mean+exp2_accuracies_std, alpha=0.2)\n",
    "plt.grid(True)\n",
    "plt.xlabel(\"Sample size\")\n",
    "plt.xticks(np.arange(100, 1500, step=100), rotation=45)\n",
    "plt.ylabel(\"Mean MLP accuracy\")\n",
    "plt.show()"
   ]
  }
 ],
 "metadata": {
  "kernelspec": {
   "display_name": "Python 3.9.7 ('venv': venv)",
   "language": "python",
   "name": "python3"
  },
  "language_info": {
   "codemirror_mode": {
    "name": "ipython",
    "version": 3
   },
   "file_extension": ".py",
   "mimetype": "text/x-python",
   "name": "python",
   "nbconvert_exporter": "python",
   "pygments_lexer": "ipython3",
   "version": "3.9.7"
  },
  "vscode": {
   "interpreter": {
    "hash": "ee1153b3f7d4e5dcd3632df88b5826f13fc1401ea1edd930ba216b62830b02e0"
   }
  }
 },
 "nbformat": 4,
 "nbformat_minor": 2
}
