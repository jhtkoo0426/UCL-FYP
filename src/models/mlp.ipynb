{
 "cells": [
  {
   "cell_type": "markdown",
   "metadata": {},
   "source": [
    "## UCL COMP0029 Individual Project for Year 3 BSc\n",
    "### Robust Robotic Grasping Utilising Touch Sensing - Proposed Learning Framework Notebook\n",
    "This notebook contains the essential code for training and testing a simplified learning framework for the proposed method - a simple multilayer perceptron to predict grasp outcomes."
   ]
  },
  {
   "cell_type": "markdown",
   "metadata": {},
   "source": [
    "### 1. Load packages"
   ]
  },
  {
   "cell_type": "code",
   "execution_count": 1121,
   "metadata": {},
   "outputs": [],
   "source": [
    "import numpy as np\n",
    "import matplotlib.pyplot as plt\n",
    "from mpl_toolkits.mplot3d.art3d import Poly3DCollection\n",
    "\n",
    "import torch\n",
    "import torch.nn as nn\n",
    "import torch.optim as optim\n",
    "import torch.nn.init as init\n",
    "import gc\n",
    "\n",
    "from sklearn.model_selection import train_test_split\n",
    "from sklearn.linear_model import LogisticRegression\n",
    "from sklearn.metrics import accuracy_score, confusion_matrix, ConfusionMatrixDisplay\n",
    "from sklearn.decomposition import PCA\n",
    "\n",
    "import seaborn as sns"
   ]
  },
  {
   "cell_type": "markdown",
   "metadata": {},
   "source": [
    "Set device for `PyTorch` training"
   ]
  },
  {
   "cell_type": "code",
   "execution_count": 1122,
   "metadata": {},
   "outputs": [
    {
     "data": {
      "text/plain": [
       "device(type='cuda')"
      ]
     },
     "execution_count": 1122,
     "metadata": {},
     "output_type": "execute_result"
    }
   ],
   "source": [
    "device = torch.device('cuda' if torch.cuda.is_available() else 'cpu')\n",
    "device"
   ]
  },
  {
   "cell_type": "markdown",
   "metadata": {},
   "source": [
    "Empty PyTorch cache"
   ]
  },
  {
   "cell_type": "code",
   "execution_count": 1123,
   "metadata": {},
   "outputs": [],
   "source": [
    "gc.collect()\n",
    "torch.cuda.empty_cache()"
   ]
  },
  {
   "cell_type": "markdown",
   "metadata": {},
   "source": [
    "### 2. Load datasets from saved .npy files"
   ]
  },
  {
   "cell_type": "markdown",
   "metadata": {},
   "source": [
    "To collect data for this experiment, you can run the \"Collect Sensory Data\" button in the Pybullet simulation. This generates a predefined number of Gaussian grasps randomly generated from a base hand pose. Each individual grasp is considered as an individual experiment, and the data collected from this experiment is split into four, each stored in its own dataset.\n",
    "\n",
    "For all object models used in this experiment, each object has 4 datasets which include:\n",
    "- `depth_ds.npy` which stores the depth tactile data from the mounted DIGIT sensors\n",
    "- `color_ds.npy` which stores the colored (RGB) version of the depth tactile data from the mounted DIGIT sensors\n",
    "- `poses_ds.npy` which stores the randomly-generated 6d hand poses from the simulation\n",
    "- `outcomes_ds.npy` which stores the outcomes of each random pose"
   ]
  },
  {
   "cell_type": "code",
   "execution_count": 1124,
   "metadata": {},
   "outputs": [],
   "source": [
    "root = \"../datasets/\"\n",
    "\n",
    "object_names = [\"block1\", \"block2\", \"block3\", \"cylinder1\", \"cylinder2\", \"cylinder3\", \"mustard_bottle1\", \"mustard_bottle2\", \"mustard_bottle3\"]\n",
    "\n",
    "depth_data = np.empty((0, 2, 160, 120))\n",
    "color_data = np.empty((0, 2, 160, 120, 3))\n",
    "poses_data = np.empty((0, 6))\n",
    "grasp_outcomes_data = np.empty((0,))\n",
    "\n",
    "for object_name in object_names:\n",
    "    # Construct the relative paths of each dataset and load them into the notebook\n",
    "    depth_data1 = np.load(root + object_name + \"_ds/depth_ds.npy\")\n",
    "    color_data1 = np.load(root + object_name + \"_ds/color_ds.npy\")\n",
    "    poses_data1 = np.load(root + object_name + \"_ds/poses_ds.npy\")\n",
    "    grasp_outcomes_data1 = np.load(root + object_name + \"_ds/grasp_outcomes.npy\")\n",
    "\n",
    "    depth_data = np.append(depth_data, depth_data1, axis=0)\n",
    "    color_data = np.append(color_data, color_data1, axis=0)\n",
    "    poses_data = np.append(poses_data, poses_data1, axis=0)\n",
    "    grasp_outcomes_data = np.append(grasp_outcomes_data, grasp_outcomes_data1, axis=0)"
   ]
  },
  {
   "cell_type": "markdown",
   "metadata": {},
   "source": [
    "These datasets should all be in the form of $(N\\times...)$ where $N$ is the number of examples:"
   ]
  },
  {
   "cell_type": "code",
   "execution_count": 1125,
   "metadata": {},
   "outputs": [
    {
     "name": "stdout",
     "output_type": "stream",
     "text": [
      "Shape of depth_data: (1440, 2, 160, 120)\n",
      "Shape of color_data: (1440, 2, 160, 120, 3)\n",
      "Shape of poses_data: (1440, 6)\n",
      "Shape of grasp_outcomes_data: (1440,)\n"
     ]
    }
   ],
   "source": [
    "print(f\"Shape of depth_data: {depth_data.shape}\")\n",
    "print(f\"Shape of color_data: {color_data.shape}\")\n",
    "print(f\"Shape of poses_data: {poses_data.shape}\")\n",
    "print(f\"Shape of grasp_outcomes_data: {grasp_outcomes_data.shape}\")"
   ]
  },
  {
   "cell_type": "markdown",
   "metadata": {},
   "source": [
    "Additionally, we confirm the number of successful and unsuccessful grasps recorded. This helps us in the next section to determine how many examples we should include for each class in order to produce a balanced dataset."
   ]
  },
  {
   "cell_type": "code",
   "execution_count": 1126,
   "metadata": {},
   "outputs": [
    {
     "name": "stdout",
     "output_type": "stream",
     "text": [
      "# of sucessesful grasps: 720\n",
      "# of unsuccessful grasps: 720\n"
     ]
    }
   ],
   "source": [
    "print(f\"# of sucessesful grasps: {(grasp_outcomes_data == 1).sum()}\")\n",
    "print(f\"# of unsuccessful grasps: {(grasp_outcomes_data == 0).sum()}\")"
   ]
  },
  {
   "cell_type": "markdown",
   "metadata": {},
   "source": [
    "### 3. Preprocessing"
   ]
  },
  {
   "cell_type": "markdown",
   "metadata": {},
   "source": [
    "#### Normalization"
   ]
  },
  {
   "cell_type": "code",
   "execution_count": 1127,
   "metadata": {},
   "outputs": [],
   "source": [
    "def normalize(arr):\n",
    "    # Normalize & standardize each column\n",
    "    mean = np.mean(arr, axis=0)\n",
    "    std = np.std(arr, axis=0)\n",
    "    arr = (arr - mean) / std\n",
    "    arr = np.nan_to_num(arr, 0)\n",
    "    return arr"
   ]
  },
  {
   "cell_type": "markdown",
   "metadata": {},
   "source": [
    "We will use a tactile+visual data representation with CNNs as the input for our MLP approach. We concatenate the depth and color to get our tactile dataset, then concatenate the tactile and visual datasets together."
   ]
  },
  {
   "cell_type": "code",
   "execution_count": 1128,
   "metadata": {},
   "outputs": [
    {
     "name": "stdout",
     "output_type": "stream",
     "text": [
      "Shape of depth_data: (1440, 160, 240)\n",
      "Shape of color_data: (1440, 160, 240, 3)\n"
     ]
    },
    {
     "data": {
      "text/plain": [
       "tensor([[ 0.2862, -1.5077, -0.9990, -0.2105, -0.8715,  0.9131],\n",
       "        [ 0.4461, -1.6477, -0.9614, -0.2102, -0.8956,  0.8923],\n",
       "        [ 0.2453, -1.4865, -1.5484, -0.1948, -0.9384,  0.9097],\n",
       "        ...,\n",
       "        [ 1.7639, -1.0385,  0.7865, -0.2009,  2.3680, -1.5441],\n",
       "        [ 1.5807, -1.0040,  0.9577, -0.2104,  2.3414, -1.5381],\n",
       "        [ 1.5080, -0.5378,  1.1056, -0.2070,  2.3273, -1.5396]],\n",
       "       dtype=torch.float64)"
      ]
     },
     "execution_count": 1128,
     "metadata": {},
     "output_type": "execute_result"
    }
   ],
   "source": [
    "depth_data = np.concatenate((depth_data[:, 0], depth_data[:, 1]), axis=2)\n",
    "color_data = np.concatenate((color_data[:, 0], color_data[:, 1]), axis=2)\n",
    "print(f\"Shape of depth_data: {depth_data.shape}\")\n",
    "print(f\"Shape of color_data: {color_data.shape}\")\n",
    "\n",
    "depth_ds = torch.from_numpy(normalize(depth_data))\n",
    "color_ds = torch.from_numpy(normalize(color_data))\n",
    "visual_ds = torch.from_numpy(np.nan_to_num(normalize(poses_data)))\n",
    "visual_ds"
   ]
  },
  {
   "cell_type": "code",
   "execution_count": 1129,
   "metadata": {},
   "outputs": [
    {
     "name": "stdout",
     "output_type": "stream",
     "text": [
      "torch.Size([1440, 160, 240, 4]) torch.Size([1440, 153606])\n"
     ]
    }
   ],
   "source": [
    "tactile_ds = torch.cat([depth_ds.unsqueeze(-1), color_ds], dim=-1)\n",
    "tactile_ds = torch.nan_to_num(tactile_ds)\n",
    "complete_ds = torch.cat([tactile_ds.reshape(tactile_ds.shape[0], -1), visual_ds], dim=1)\n",
    "complete_ds = torch.nan_to_num(complete_ds)\n",
    "print(tactile_ds.shape, complete_ds.shape)"
   ]
  },
  {
   "attachments": {},
   "cell_type": "markdown",
   "metadata": {},
   "source": [
    "#### Dimensionality reduction"
   ]
  },
  {
   "cell_type": "code",
   "execution_count": 1130,
   "metadata": {},
   "outputs": [],
   "source": [
    "# A simple convolutional neural network that extracts features from an input tensor\n",
    "class FeatureExtractorCNN(nn.Module):\n",
    "    def __init__(self):\n",
    "        super(FeatureExtractorCNN, self).__init__()\n",
    "        self.conv1 = nn.Conv2d(4, 16, kernel_size=3, stride=1, padding=1)\n",
    "        self.conv2 = nn.Conv2d(16, 64, kernel_size=3, stride=1, padding=1)\n",
    "        self.conv3 = nn.Conv2d(64, 128, kernel_size=3, stride=1, padding=1)\n",
    "        self.conv4 = nn.Conv2d(128, 256, kernel_size=3, stride=1, padding=1)\n",
    "\n",
    "        self.pool = nn.MaxPool2d(kernel_size=3)\n",
    "\n",
    "\n",
    "    def forward(self, x):\n",
    "        x = self.conv1(x)\n",
    "        x = nn.functional.relu(x)\n",
    "        x = self.pool(x)\n",
    "\n",
    "        x = self.conv2(x)\n",
    "        x = nn.functional.relu(x)\n",
    "        x = self.pool(x)\n",
    "        \n",
    "        x = self.conv3(x)\n",
    "        x = nn.functional.relu(x)\n",
    "        x = self.pool(x)\n",
    "\n",
    "        x = self.conv4(x)\n",
    "        x = nn.functional.relu(x)\n",
    "        x = self.pool(x)\n",
    "\n",
    "        return x"
   ]
  },
  {
   "cell_type": "code",
   "execution_count": 1131,
   "metadata": {},
   "outputs": [
    {
     "data": {
      "text/plain": [
       "torch.Size([1440, 512])"
      ]
     },
     "execution_count": 1131,
     "metadata": {},
     "output_type": "execute_result"
    }
   ],
   "source": [
    "# Preprocess data using CNN feature extraction\n",
    "cnn = FeatureExtractorCNN()\n",
    "cnn_tactile = torch.cat([cnn(img.float().permute(2,0,1)).unsqueeze(0) for img in tactile_ds])\n",
    "cnn_tactile = cnn_tactile.reshape(cnn_tactile.shape[0], -1)\n",
    "cnn_tactile.shape"
   ]
  },
  {
   "attachments": {},
   "cell_type": "markdown",
   "metadata": {},
   "source": [
    "### 4. Testing different data representations"
   ]
  },
  {
   "cell_type": "markdown",
   "metadata": {},
   "source": [
    "In our MLP model, there are two fully connected (dense) layers, each with an activation function (ReLU for the first layer and no activation for the second layer). The input size, hidden size, and output size are parameters that need to be specified when creating an instance of the MLP."
   ]
  },
  {
   "cell_type": "code",
   "execution_count": 1132,
   "metadata": {},
   "outputs": [],
   "source": [
    "class MLP(nn.Module):\n",
    "    def __init__(self, input_size, hidden_size, output_size):\n",
    "        super(MLP, self).__init__()\n",
    "        self.fc1 = nn.Linear(input_size, hidden_size)\n",
    "        self.fc2 = nn.Linear(hidden_size, hidden_size)\n",
    "        self.fc3 = nn.Linear(hidden_size, output_size)\n",
    "        self.relu = nn.ReLU()\n",
    "\n",
    "        self.criterion = nn.BCEWithLogitsLoss()\n",
    "        self.optimizer = optim.Adam(self.parameters())\n",
    "\n",
    "    def forward(self, x):\n",
    "        x = self.fc1(x)\n",
    "        x = self.relu(x)\n",
    "        x = self.fc2(x)\n",
    "        x = self.relu(x)\n",
    "        x = self.fc3(x)\n",
    "        return x\n",
    "    \n",
    "    def train_mlp(self, epochs, X_train, y_train):\n",
    "        self.losses = []\n",
    "        for _ in range(epochs):\n",
    "            inputs = torch.from_numpy(X_train).float()\n",
    "            labels = torch.from_numpy(y_train).float().view(-1, 1)\n",
    "\n",
    "            # Zero the gradients\n",
    "            self.optimizer.zero_grad()\n",
    "\n",
    "            # Forward pass\n",
    "            preds = self(inputs)\n",
    "            loss = self.criterion(preds, labels)\n",
    "            self.losses.append(loss.item())\n",
    "\n",
    "            # Backward pass and optimization\n",
    "            loss.backward()\n",
    "            self.optimizer.step()\n",
    "        \n",
    "    def eval_mlp(self, X_test, y_test, verbose=False):\n",
    "        # Evaluate the performance of the model on the testing set\n",
    "        with torch.no_grad():\n",
    "            inputs = torch.from_numpy(X_test).float()\n",
    "            labels = torch.from_numpy(y_test).float().view(-1, 1)\n",
    "\n",
    "            # Forward pass\n",
    "            final_preds = self(inputs)\n",
    "            predicted = (final_preds > 0).float()\n",
    "            \n",
    "            # Confusion matrix\n",
    "            if verbose:\n",
    "                cm = confusion_matrix(y_test, predicted)\n",
    "                sns.heatmap(cm, linewidths=1, annot=True, fmt='g')\n",
    "\n",
    "            # Accuracy\n",
    "            accuracy = (predicted == labels).float().mean()\n",
    "            print(f\"Accuracy of MLP model: {accuracy*100:.2f}%\")\n",
    "    \n",
    "    def plot_losses(self):\n",
    "        plt.plot(self.losses)\n",
    "        plt.xlabel('Epochs')\n",
    "        plt.ylabel('Training Loss')\n",
    "        plt.show\n"
   ]
  },
  {
   "attachments": {},
   "cell_type": "markdown",
   "metadata": {},
   "source": [
    "#### 4a. Tactile only + CNN -> MLP"
   ]
  },
  {
   "cell_type": "code",
   "execution_count": 1133,
   "metadata": {},
   "outputs": [],
   "source": [
    "X_train, X_test, y_train, y_test = train_test_split(cnn_tactile.detach().numpy(), grasp_outcomes_data, test_size=0.2)"
   ]
  },
  {
   "cell_type": "code",
   "execution_count": 1134,
   "metadata": {},
   "outputs": [],
   "source": [
    "mlp4a = MLP(input_size=512, hidden_size=64, output_size=1)\n",
    "mlp4a.train_mlp(epochs=1000, X_train=X_train, y_train=y_train)\n",
    "# mlp4a.plot_losses()"
   ]
  },
  {
   "cell_type": "code",
   "execution_count": 1135,
   "metadata": {},
   "outputs": [
    {
     "name": "stdout",
     "output_type": "stream",
     "text": [
      "Accuracy of MLP model: 72.22%\n"
     ]
    },
    {
     "data": {
      "image/png": "[encoded data removed]",
      "text/plain": [
       "<Figure size 640x480 with 2 Axes>"
      ]
     },
     "metadata": {},
     "output_type": "display_data"
    }
   ],
   "source": [
    "mlp4a.eval_mlp(X_test=X_test, y_test=y_test, verbose=True)"
   ]
  },
  {
   "attachments": {},
   "cell_type": "markdown",
   "metadata": {},
   "source": [
    "### 4b. Visual only + CNN -> MLP"
   ]
  },
  {
   "cell_type": "code",
   "execution_count": 1136,
   "metadata": {},
   "outputs": [],
   "source": [
    "X_train, X_test, y_train, y_test = train_test_split(visual_ds.detach().numpy(), grasp_outcomes_data, test_size=0.2)"
   ]
  },
  {
   "cell_type": "code",
   "execution_count": 1137,
   "metadata": {},
   "outputs": [],
   "source": [
    "mlp4b = MLP(input_size=6, hidden_size=4, output_size=1)\n",
    "mlp4b.train_mlp(epochs=1000, X_train=X_train, y_train=y_train)\n",
    "# mlp4b.plot_losses()"
   ]
  },
  {
   "cell_type": "code",
   "execution_count": 1138,
   "metadata": {},
   "outputs": [
    {
     "name": "stdout",
     "output_type": "stream",
     "text": [
      "Accuracy of MLP model: 52.43%\n"
     ]
    },
    {
     "data": {
      "image/png": "[encoded data removed]",
      "text/plain": [
       "<Figure size 640x480 with 2 Axes>"
      ]
     },
     "metadata": {},
     "output_type": "display_data"
    }
   ],
   "source": [
    "mlp4b.eval_mlp(X_test=X_test, y_test=y_test, verbose=True)"
   ]
  },
  {
   "attachments": {},
   "cell_type": "markdown",
   "metadata": {},
   "source": [
    "### 5. Proposed method - All data -> MLP"
   ]
  },
  {
   "attachments": {},
   "cell_type": "markdown",
   "metadata": {},
   "source": [
    "We split our data into training and testing datasets for future sections.\n",
    "We will only use the `complete_ds` for this approach. "
   ]
  },
  {
   "cell_type": "code",
   "execution_count": 1139,
   "metadata": {},
   "outputs": [
    {
     "data": {
      "text/plain": [
       "torch.Size([1440, 518])"
      ]
     },
     "execution_count": 1139,
     "metadata": {},
     "output_type": "execute_result"
    }
   ],
   "source": [
    "# We simply combine the cnn-processed tactile data (from Section 5.3.1) with the visual data\n",
    "cnn5_complete_ds = torch.cat([cnn_tactile.reshape(cnn_tactile.shape[0], -1), visual_ds], dim=1)\n",
    "cnn5_complete_ds.shape"
   ]
  },
  {
   "cell_type": "code",
   "execution_count": 1140,
   "metadata": {},
   "outputs": [],
   "source": [
    "X_cnn_complete_train, X_cnn_complete_test, y_cnn_complete_train, y_cnn_complete_test = train_test_split(cnn5_complete_ds.detach().numpy(), grasp_outcomes_data, test_size=0.2)"
   ]
  },
  {
   "cell_type": "code",
   "execution_count": 1141,
   "metadata": {},
   "outputs": [],
   "source": [
    "mlp5 = MLP(input_size=518, hidden_size=64, output_size=1)\n",
    "mlp5.train_mlp(epochs=1000, X_train=X_cnn_complete_train, y_train=y_cnn_complete_train)\n",
    "# mlp5.plot_losses()"
   ]
  },
  {
   "cell_type": "code",
   "execution_count": 1142,
   "metadata": {},
   "outputs": [
    {
     "name": "stdout",
     "output_type": "stream",
     "text": [
      "Accuracy of MLP model: 72.22%\n"
     ]
    },
    {
     "data": {
      "image/png": "[encoded data removed]",
      "text/plain": [
       "<Figure size 640x480 with 2 Axes>"
      ]
     },
     "metadata": {},
     "output_type": "display_data"
    }
   ],
   "source": [
    "mlp5.eval_mlp(X_test=X_cnn_complete_test, y_test=y_cnn_complete_test, verbose=True)"
   ]
  },
  {
   "cell_type": "markdown",
   "metadata": {},
   "source": [
    "### 6. MLP with object features\n",
    "We additionally train our MLP with tactile + visual data, where visual data consists of end effector poses and object features."
   ]
  },
  {
   "cell_type": "markdown",
   "metadata": {},
   "source": [
    "#### 6a. Clustering for object features using PCA\n",
    "For determining the successfulness of object feature representation in identifying various objects"
   ]
  },
  {
   "cell_type": "code",
   "execution_count": 1143,
   "metadata": {},
   "outputs": [],
   "source": [
    "import numpy as np\n",
    "from sklearn.decomposition import PCA\n",
    "from sklearn.cluster import KMeans, SpectralClustering\n",
    "from sklearn.preprocessing import StandardScaler\n",
    "import matplotlib.pyplot as plt\n",
    "\n",
    "np.set_printoptions(precision=2, formatter={'float_kind': \"{:.3f}\".format})"
   ]
  },
  {
   "cell_type": "markdown",
   "metadata": {},
   "source": [
    "### Loading object features"
   ]
  },
  {
   "cell_type": "code",
   "execution_count": 1144,
   "metadata": {},
   "outputs": [],
   "source": [
    "### Object features\n",
    "block_features = np.array([\n",
    "    [0.025, 0.05, 0.05, 0., 0., 0., 0., 0., 0.],\n",
    "    [0.03, 0.025, 0.045, 0., 0., 0., 0., 0., 0.],\n",
    "    [0.05, 0.025, 0.04, 0., 0., 0., 0., 0., 0.],\n",
    "    # [8251.86033209, 380793.32718545, 8251.86033209, 380793.32718545, 7340.53467028, 323264.58605476],\n",
    "    # [17358.04440407, 46879.37104777, 25111.58320378, 60764.07706612, 39914.37898048, 46661.69902607],\n",
    "    # [8941.59628842, 178701.35111026, 6592.38039092, 211671.05821614, 37993.39435821, 115665.30894101]\n",
    "])\n",
    "\n",
    "cylinder_features = np.array([\n",
    "    [0.04, 0.04, 0.05, 950.21606561, 14540.28434464, 950.21606561, 14540.28434464, 950.21606561, 14540.28434464],\n",
    "    [0.045, 0.045, 0.035, 750.78800246, 11488.6197291, 750.78800246, 11488.6197291, 750.78800246, 11488.6197291],\n",
    "    [0.034, 0.034, 0.045, 1315.17794549, 20124.96103064, 1315.17794549, 20124.96103064, 1315.17794549, 20124.96103064]\n",
    "    # [1863.04007165, 4445.05882512, 3444.58243043, 116245.56798876, 3444.58243043, 116245.56798876],\n",
    "    # [25350.56805999, 90897.43464835, 25130.96875937, 90779.57624788, 40959.86108762, 65384.53394801],\n",
    "    # [8129.18609508, 13671.31408669,  5531.60803704, 12058.88586025, 7112.6668489 , 40254.7491457]\n",
    "])\n",
    "\n",
    "bottle_features = np.array([\n",
    "    [0.06, 0.04, 0.04, 43195.64459266, 114198.0441697 , 45229.93706864, 135651.61794731, 75768.06626518,  83802.00991944],\n",
    "    [0.04, 0.06, 0.06, 68993.34322089, 220902.86884084, 75354.47923164, 239160.99530455, 109695.41304924, 147938.06047763],\n",
    "    [0.04, 0.06, 0.04, 61744.75459905, 168925.8805044 , 68143.84372052, 148775.07141178, 73102.67367022, 102953.40831915]\n",
    "    # [58743.54544376, 155331.31241432, 64091.03332161, 156228.08639407, 78705.15565092, 107053.40095796],\n",
    "    # [50165.53259195, 64214.77371792, 38058.77302717, 82455.45932214, 53901.08662624, 65393.21442221],\n",
    "    # [61150.93285712, 137872.41617152,  59952.3159986 , 132257.80102161, 83815.39602093, 134698.94798265]\n",
    "])\n",
    "\n",
    "object_names = {0: 'cylinder', 1: 'block', 2: 'bottle'}"
   ]
  },
  {
   "cell_type": "markdown",
   "metadata": {},
   "source": [
    "### Feature transformation"
   ]
  },
  {
   "cell_type": "markdown",
   "metadata": {},
   "source": [
    "Concatenating features together"
   ]
  },
  {
   "cell_type": "code",
   "execution_count": 1145,
   "metadata": {},
   "outputs": [
    {
     "data": {
      "text/plain": [
       "array([[0.040, 0.040, 0.050, 950.216, 14540.284, 950.216, 14540.284,\n",
       "        950.216, 14540.284],\n",
       "       [0.045, 0.045, 0.035, 750.788, 11488.620, 750.788, 11488.620,\n",
       "        750.788, 11488.620],\n",
       "       [0.034, 0.034, 0.045, 1315.178, 20124.961, 1315.178, 20124.961,\n",
       "        1315.178, 20124.961],\n",
       "       [0.025, 0.050, 0.050, 0.000, 0.000, 0.000, 0.000, 0.000, 0.000],\n",
       "       [0.030, 0.025, 0.045, 0.000, 0.000, 0.000, 0.000, 0.000, 0.000],\n",
       "       [0.050, 0.025, 0.040, 0.000, 0.000, 0.000, 0.000, 0.000, 0.000],\n",
       "       [0.060, 0.040, 0.040, 43195.645, 114198.044, 45229.937,\n",
       "        135651.618, 75768.066, 83802.010],\n",
       "       [0.040, 0.060, 0.060, 68993.343, 220902.869, 75354.479,\n",
       "        239160.995, 109695.413, 147938.060],\n",
       "       [0.040, 0.060, 0.040, 61744.755, 168925.881, 68143.844,\n",
       "        148775.071, 73102.674, 102953.408]])"
      ]
     },
     "execution_count": 1145,
     "metadata": {},
     "output_type": "execute_result"
    }
   ],
   "source": [
    "objects = (cylinder_features, block_features, bottle_features)\n",
    "features = np.concatenate(objects)\n",
    "labels = np.array([0, 0, 0, 1, 1, 1, 2, 2, 2])\n",
    "features"
   ]
  },
  {
   "cell_type": "markdown",
   "metadata": {},
   "source": [
    "Standardize the data"
   ]
  },
  {
   "cell_type": "code",
   "execution_count": 1146,
   "metadata": {},
   "outputs": [
    {
     "data": {
      "text/plain": [
       "array([[-0.045, -0.171, 0.707, -0.673, -0.583, -0.671, -0.586, -0.677,\n",
       "        -0.536],\n",
       "       [0.460, 0.234, -1.414, -0.680, -0.621, -0.677, -0.622, -0.682,\n",
       "        -0.595],\n",
       "       [-0.650, -0.657, 0.000, -0.660, -0.513, -0.659, -0.519, -0.668,\n",
       "        -0.428],\n",
       "       [-1.558, 0.639, 0.707, -0.707, -0.765, -0.702, -0.760, -0.700,\n",
       "        -0.817],\n",
       "       [-1.054, -1.386, 0.000, -0.707, -0.765, -0.702, -0.760, -0.700,\n",
       "        -0.817],\n",
       "       [0.964, -1.386, -0.707, -0.707, -0.765, -0.702, -0.760, -0.700,\n",
       "        -0.817],\n",
       "       [1.973, -0.171, -0.707, 0.846, 0.664, 0.789, 0.869, 1.125, 0.801],\n",
       "       [-0.045, 1.449, 2.121, 1.774, 1.999, 1.781, 2.112, 1.942, 2.039],\n",
       "       [-0.045, 1.449, -0.707, 1.513, 1.349, 1.544, 1.026, 1.061, 1.171]])"
      ]
     },
     "execution_count": 1146,
     "metadata": {},
     "output_type": "execute_result"
    }
   ],
   "source": [
    "scaler = StandardScaler()\n",
    "features = scaler.fit_transform(features)\n",
    "features"
   ]
  },
  {
   "attachments": {},
   "cell_type": "markdown",
   "metadata": {},
   "source": [
    "### PCA"
   ]
  },
  {
   "cell_type": "code",
   "execution_count": 1147,
   "metadata": {},
   "outputs": [],
   "source": [
    "def pca(data, k, verbose=True):\n",
    "    pca = PCA(n_components=k)\n",
    "    pca.fit(data)\n",
    "\n",
    "    if verbose:\n",
    "        print(f\"Variance captured: {sum(pca.explained_variance_ratio_)*100:.2f}%\")\n",
    "    return pca.transform(data)"
   ]
  },
  {
   "cell_type": "markdown",
   "metadata": {},
   "source": [
    "Determine the number of components to use"
   ]
  },
  {
   "cell_type": "code",
   "execution_count": 1148,
   "metadata": {},
   "outputs": [
    {
     "name": "stdout",
     "output_type": "stream",
     "text": [
      "Variance captured: 74.58%\n",
      "Variance captured: 91.43%\n",
      "Variance captured: 97.34%\n",
      "Variance captured: 99.65%\n"
     ]
    }
   ],
   "source": [
    "for i in range(1, 5):\n",
    "    pca_res = pca(features, k=i)"
   ]
  },
  {
   "cell_type": "code",
   "execution_count": 1149,
   "metadata": {},
   "outputs": [
    {
     "name": "stdout",
     "output_type": "stream",
     "text": [
      "Variance captured: 91.43%\n",
      "[[-1.376 -0.587]\n",
      " [-1.572 1.024]\n",
      " [-1.585 -0.449]\n",
      " [-1.585 -1.895]\n",
      " [-2.230 -0.581]\n",
      " [-2.109 1.327]\n",
      " [2.014 2.125]\n",
      " [5.193 -1.315]\n",
      " [3.250 0.351]]\n"
     ]
    },
    {
     "data": {
      "image/png": "[encoded data removed]",
      "text/plain": [
       "<Figure size 640x480 with 1 Axes>"
      ]
     },
     "metadata": {},
     "output_type": "display_data"
    }
   ],
   "source": [
    "### Plot 2-feature PCA results\n",
    "pca2d = pca(features, k=2)\n",
    "print(pca2d)\n",
    "\n",
    "colors = ['r', 'g', 'b']\n",
    "for i, c in zip(np.unique(labels), colors):\n",
    "    plt.scatter(pca2d[labels == i, 0], pca2d[labels == i, 1], c=c, label=object_names[i])\n",
    "\n",
    "plt.xlabel('Component 1')\n",
    "plt.ylabel('Component 2')\n",
    "plt.legend()\n",
    "plt.show()"
   ]
  },
  {
   "cell_type": "code",
   "execution_count": 1150,
   "metadata": {},
   "outputs": [
    {
     "name": "stdout",
     "output_type": "stream",
     "text": [
      "Variance captured: 97.34%\n"
     ]
    },
    {
     "data": {
      "image/png": "[encoded data removed]",
      "text/plain": [
       "<Figure size 640x480 with 1 Axes>"
      ]
     },
     "metadata": {},
     "output_type": "display_data"
    }
   ],
   "source": [
    "### Plot 3-feature PCA results\n",
    "pca3d = pca(features, k=3)\n",
    "\n",
    "fig = plt.figure()\n",
    "ax = fig.add_subplot(111, projection='3d')\n",
    "\n",
    "colors = ['r', 'g', 'b']\n",
    "for i, c in zip(np.unique(labels), colors):\n",
    "    ax.scatter(pca3d[labels == i, 0], pca3d[labels == i, 1], pca3d[labels == i, 2], c=c, label=object_names[i])\n",
    "\n",
    "ax.set_xlabel('Component 1')\n",
    "ax.set_ylabel('Component 2')\n",
    "ax.set_zlabel('Component 3')\n",
    "ax.set_aspect('equal', 'box')\n",
    "ax.legend()\n",
    "plt.show()"
   ]
  },
  {
   "cell_type": "code",
   "execution_count": 1151,
   "metadata": {},
   "outputs": [
    {
     "name": "stdout",
     "output_type": "stream",
     "text": [
      "PCA clustering accuracy: 88.89\n",
      "[0 0 0 1 1 1 2 2 2]\n",
      "[0 0 1 1 1 1 2 2 2]\n"
     ]
    }
   ],
   "source": [
    "from sklearn.linear_model import LogisticRegression\n",
    "from sklearn.metrics import accuracy_score\n",
    "\n",
    "\n",
    "clf = LogisticRegression()\n",
    "clf.fit(features, labels)\n",
    "ypred = clf.predict(features)\n",
    "\n",
    "accuracy = accuracy_score(labels, ypred) * 100\n",
    "print(f\"PCA clustering accuracy: {accuracy:.2f}\")\n",
    "print(labels)\n",
    "print(ypred)"
   ]
  },
  {
   "cell_type": "markdown",
   "metadata": {},
   "source": [
    "#### 6b. Helper function"
   ]
  },
  {
   "cell_type": "markdown",
   "metadata": {},
   "source": [
    "We create a helper function to preprocess datasets & extract features via CNN"
   ]
  },
  {
   "cell_type": "code",
   "execution_count": 1152,
   "metadata": {},
   "outputs": [],
   "source": [
    "# Helper function to preprocess datasets & extract features via CNN\n",
    "def prepare_cnn_dataset(object_names, object_features, pca_required=False, k=None):\n",
    "    mlp_final_ds = []\n",
    "    mlp_grasp_outcomes_ds = []\n",
    "\n",
    "    for i in range(len(object_names)):\n",
    "        object_name = object_names[i]\n",
    "\n",
    "        # Construct the relative paths of each dataset and load them into the notebook\n",
    "        depth_data = np.load(root + object_name + \"_ds/depth_ds.npy\")\n",
    "        color_data = np.load(root + object_name + \"_ds/color_ds.npy\")\n",
    "        poses_data = np.load(root + object_name + \"_ds/poses_ds.npy\")\n",
    "        grasp_outcomes_data = np.load(root + object_name + \"_ds/grasp_outcomes.npy\")\n",
    "\n",
    "        depth_data = np.concatenate((depth_data[:, 0], depth_data[:, 1]), axis=2)\n",
    "        color_data = np.concatenate((color_data[:, 0], color_data[:, 1]), axis=2)\n",
    "\n",
    "        depth_ds = torch.from_numpy(normalize(depth_data))\n",
    "        color_ds = torch.from_numpy(normalize(color_data))\n",
    "        visual_ds = torch.from_numpy(normalize(poses_data))\n",
    "\n",
    "        tactile_ds = torch.cat([depth_ds.unsqueeze(-1), color_ds], dim=-1)\n",
    "        complete_ds = torch.cat([tactile_ds.reshape(tactile_ds.shape[0], -1), visual_ds], dim=1)\n",
    "\n",
    "        cnn = FeatureExtractorCNN()\n",
    "        cnn_tactile = torch.cat([cnn(img.float().permute(2,0,1)).unsqueeze(0) for img in tactile_ds])\n",
    "        cnn_tactile = cnn_tactile.reshape(cnn_tactile.shape[0], -1)\n",
    "        \n",
    "        if pca_required and k is not None:\n",
    "            cnn_tactile = torch.from_numpy(pca(np.array(cnn_tactile.detach().numpy()), k=k, verbose=False))\n",
    "        \n",
    "        cnn6_complete_ds = torch.cat([cnn_tactile.reshape(cnn_tactile.shape[0], -1), visual_ds], dim=1)\n",
    "        \n",
    "        # Prepare object geometric features\n",
    "        geometric_features = object_features[i]\n",
    "        geometric_features = geometric_features.reshape(1, len(object_features[i]))\n",
    "\n",
    "        # Combine the final data\n",
    "        final_dataset = np.concatenate((cnn6_complete_ds.detach().numpy(), np.tile(geometric_features, (cnn6_complete_ds.shape[0], 1))), axis=1)\n",
    "        \n",
    "        mlp_final_ds.append(final_dataset)\n",
    "        mlp_grasp_outcomes_ds.append(grasp_outcomes_data)\n",
    "    \n",
    "    print(f\"k={k}\")\n",
    "    mlp_final_ds = np.vstack(mlp_final_ds)\n",
    "    mlp_final_ds = np.array(normalize(mlp_final_ds))\n",
    "    mlp_grasp_outcomes_ds = np.concatenate(np.vstack(mlp_grasp_outcomes_ds))\n",
    "    return mlp_final_ds, mlp_grasp_outcomes_ds"
   ]
  },
  {
   "cell_type": "markdown",
   "metadata": {},
   "source": [
    "#### 6b. MLP Training\n",
    "Complete dataset: Tactile (CNN) + Visual (ee pose & geometric features)"
   ]
  },
  {
   "cell_type": "markdown",
   "metadata": {},
   "source": [
    "We will use the following object features for training"
   ]
  },
  {
   "cell_type": "code",
   "execution_count": 1153,
   "metadata": {},
   "outputs": [],
   "source": [
    "object_names = [\"block1\", \"block2\", \"block3\", \"cylinder1\", \"cylinder2\", \"cylinder3\", \"mustard_bottle1\", \"mustard_bottle2\", \"mustard_bottle3\"]"
   ]
  },
  {
   "cell_type": "code",
   "execution_count": 1154,
   "metadata": {},
   "outputs": [],
   "source": [
    "object_features = np.concatenate((block_features, cylinder_features, bottle_features))"
   ]
  },
  {
   "cell_type": "code",
   "execution_count": 1155,
   "metadata": {},
   "outputs": [
    {
     "name": "stdout",
     "output_type": "stream",
     "text": [
      "k=None\n"
     ]
    }
   ],
   "source": [
    "mlp6b_final_ds, mlp6b_grasp_outcomes_ds = prepare_cnn_dataset(object_names, object_features, pca_required=False, k=None)"
   ]
  },
  {
   "cell_type": "code",
   "execution_count": 1156,
   "metadata": {},
   "outputs": [],
   "source": [
    "X_final_complete_train, X_final_complete_test, y_final_complete_train, y_final_complete_test = train_test_split(mlp6b_final_ds, mlp6b_grasp_outcomes_ds, test_size=0.2)"
   ]
  },
  {
   "cell_type": "code",
   "execution_count": 1157,
   "metadata": {},
   "outputs": [],
   "source": [
    "mlp6b = MLP(input_size=527, hidden_size=64, output_size=1)\n",
    "mlp6b.train_mlp(epochs=1000, X_train=X_final_complete_train, y_train=y_final_complete_train)"
   ]
  },
  {
   "cell_type": "code",
   "execution_count": 1158,
   "metadata": {},
   "outputs": [
    {
     "name": "stdout",
     "output_type": "stream",
     "text": [
      "Accuracy of MLP model: 72.57%\n"
     ]
    },
    {
     "data": {
      "image/png": "[encoded data removed]",
      "text/plain": [
       "<Figure size 640x480 with 2 Axes>"
      ]
     },
     "metadata": {},
     "output_type": "display_data"
    }
   ],
   "source": [
    "mlp6b.eval_mlp(X_test=X_final_complete_test, y_test=y_final_complete_test, verbose=True)"
   ]
  },
  {
   "cell_type": "markdown",
   "metadata": {},
   "source": [
    "#### 6c. MLP Training 2\n",
    "Complete dataset: Tactile (CNN -> PCA) + Visual (ee pose & geometric features)"
   ]
  },
  {
   "cell_type": "code",
   "execution_count": 1159,
   "metadata": {},
   "outputs": [],
   "source": [
    "object_names = [\"block1\", \"block2\", \"block3\", \"cylinder1\", \"cylinder2\", \"cylinder3\", \"mustard_bottle1\", \"mustard_bottle2\", \"mustard_bottle3\"]"
   ]
  },
  {
   "cell_type": "markdown",
   "metadata": {},
   "source": [
    "We conduct the following experiment to determine the optimal value of $k$ for PCA:\n",
    "1. Run train_mlp6b() from $k=1$ to $k=20$\n",
    "2. Repeat 1 for 2 times to find the average accuracy for each $k$, and choose $k$ value for the maximum average\n",
    "We found that $k=14$ gives the best accuracy"
   ]
  },
  {
   "cell_type": "code",
   "execution_count": 1160,
   "metadata": {},
   "outputs": [],
   "source": [
    "def mlp6c(object_names):\n",
    "    for i in range(0, 20):\n",
    "        mlp6c_final_ds, mlp6c_grasp_outcomes_ds = prepare_cnn_dataset(object_names, object_features, pca_required=True, k=i+1)\n",
    "        X_final_complete_train, X_final_complete_test, y_final_complete_train, y_final_complete_test = train_test_split(mlp6c_final_ds, mlp6c_grasp_outcomes_ds, test_size=0.2)\n",
    "        \n",
    "        mlp6c = MLP(input_size=mlp6c_final_ds.shape[1], hidden_size=64, output_size=1)\n",
    "        mlp6c.train_mlp(epochs=1000, X_train=X_final_complete_train, y_train=y_final_complete_train)\n",
    "        mlp6c.eval_mlp(X_test=X_final_complete_test, y_test=y_final_complete_test, verbose=False)"
   ]
  },
  {
   "cell_type": "code",
   "execution_count": 1161,
   "metadata": {},
   "outputs": [
    {
     "name": "stdout",
     "output_type": "stream",
     "text": [
      "k=1\n",
      "Accuracy of MLP model: 63.89%\n",
      "k=2\n",
      "Accuracy of MLP model: 62.50%\n",
      "k=3\n",
      "Accuracy of MLP model: 72.57%\n",
      "k=4\n",
      "Accuracy of MLP model: 69.44%\n",
      "k=5\n",
      "Accuracy of MLP model: 70.49%\n",
      "k=6\n",
      "Accuracy of MLP model: 77.08%\n",
      "k=7\n",
      "Accuracy of MLP model: 74.65%\n",
      "k=8\n",
      "Accuracy of MLP model: 73.61%\n",
      "k=9\n",
      "Accuracy of MLP model: 69.44%\n",
      "k=10\n",
      "Accuracy of MLP model: 77.43%\n",
      "k=11\n",
      "Accuracy of MLP model: 75.35%\n",
      "k=12\n",
      "Accuracy of MLP model: 74.31%\n",
      "k=13\n",
      "Accuracy of MLP model: 64.24%\n",
      "k=14\n",
      "Accuracy of MLP model: 74.65%\n",
      "k=15\n",
      "Accuracy of MLP model: 70.83%\n",
      "k=16\n",
      "Accuracy of MLP model: 66.32%\n",
      "k=17\n",
      "Accuracy of MLP model: 70.49%\n",
      "k=18\n",
      "Accuracy of MLP model: 68.06%\n",
      "k=19\n",
      "Accuracy of MLP model: 71.88%\n",
      "k=20\n",
      "Accuracy of MLP model: 68.75%\n"
     ]
    }
   ],
   "source": [
    "mlp6c(object_names)"
   ]
  },
  {
   "cell_type": "markdown",
   "metadata": {},
   "source": [
    "### 7. Experiments"
   ]
  },
  {
   "cell_type": "markdown",
   "metadata": {},
   "source": [
    "#### 7.1 Train MLP on 2 blocks, test on remaining block\n",
    "Objective: see MLP's robustness"
   ]
  },
  {
   "cell_type": "markdown",
   "metadata": {},
   "source": [
    "#### 7.2 Train MLP on randomly sampled subset of all objects\n",
    "Objective: see influence of dataset size on accuracy;"
   ]
  }
 ],
 "metadata": {
  "kernelspec": {
   "display_name": "Python 3.9.7 ('venv': venv)",
   "language": "python",
   "name": "python3"
  },
  "language_info": {
   "codemirror_mode": {
    "name": "ipython",
    "version": 3
   },
   "file_extension": ".py",
   "mimetype": "text/x-python",
   "name": "python",
   "nbconvert_exporter": "python",
   "pygments_lexer": "ipython3",
   "version": "3.9.7"
  },
  "orig_nbformat": 4,
  "vscode": {
   "interpreter": {
    "hash": "ee1153b3f7d4e5dcd3632df88b5826f13fc1401ea1edd930ba216b62830b02e0"
   }
  }
 },
 "nbformat": 4,
 "nbformat_minor": 2
}
