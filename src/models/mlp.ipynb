{
 "cells": [
  {
   "cell_type": "markdown",
   "metadata": {},
   "source": [
    "## UCL COMP0029 Individual Project for Year 3 BSc\n",
    "### Robust Robotic Grasping Utilising Touch Sensing - Proposed Learning Framework Notebook\n",
    "This notebook contains the essential code for training and testing a simplified learning framework for the proposed method - a simple multilayer perceptron to predict grasp outcomes."
   ]
  },
  {
   "cell_type": "markdown",
   "metadata": {},
   "source": [
    "### 1. Load packages"
   ]
  },
  {
   "cell_type": "code",
   "execution_count": 1,
   "metadata": {},
   "outputs": [],
   "source": [
    "import numpy as np\n",
    "import matplotlib.pyplot as plt\n",
    "from mpl_toolkits.mplot3d.art3d import Poly3DCollection\n",
    "\n",
    "import torch\n",
    "import torch.nn as nn\n",
    "import torch.optim as optim\n",
    "import torch.nn.init as init\n",
    "import gc\n",
    "\n",
    "from sklearn.model_selection import train_test_split\n",
    "from sklearn.linear_model import LogisticRegression\n",
    "from sklearn.metrics import accuracy_score, confusion_matrix, ConfusionMatrixDisplay\n",
    "from sklearn.decomposition import PCA\n",
    "\n",
    "import seaborn as sns"
   ]
  },
  {
   "cell_type": "markdown",
   "metadata": {},
   "source": [
    "Set device for `PyTorch` training"
   ]
  },
  {
   "cell_type": "code",
   "execution_count": 2,
   "metadata": {},
   "outputs": [
    {
     "data": {
      "text/plain": [
       "device(type='cuda')"
      ]
     },
     "execution_count": 2,
     "metadata": {},
     "output_type": "execute_result"
    }
   ],
   "source": [
    "device = torch.device('cuda' if torch.cuda.is_available() else 'cpu')\n",
    "device"
   ]
  },
  {
   "cell_type": "markdown",
   "metadata": {},
   "source": [
    "Empty PyTorch cache"
   ]
  },
  {
   "cell_type": "code",
   "execution_count": 3,
   "metadata": {},
   "outputs": [],
   "source": [
    "gc.collect()\n",
    "torch.cuda.empty_cache()"
   ]
  },
  {
   "cell_type": "code",
   "execution_count": 4,
   "metadata": {},
   "outputs": [
    {
     "data": {
      "text/plain": [
       "<numpy.errstate at 0x22306579460>"
      ]
     },
     "execution_count": 4,
     "metadata": {},
     "output_type": "execute_result"
    }
   ],
   "source": [
    "np.errstate(invalid='ignore', divide='ignore')"
   ]
  },
  {
   "cell_type": "markdown",
   "metadata": {},
   "source": [
    "### 2. Load datasets from saved .npy files"
   ]
  },
  {
   "cell_type": "markdown",
   "metadata": {},
   "source": [
    "To collect data for this experiment, you can run the \"Collect Sensory Data\" button in the Pybullet simulation. This generates a predefined number of Gaussian grasps randomly generated from a base hand pose. Each individual grasp is considered as an individual experiment, and the data collected from this experiment is split into four, each stored in its own dataset.\n",
    "\n",
    "For all object models used in this experiment, each object has 4 datasets which include:\n",
    "- `depth_ds.npy` which stores the depth tactile data from the mounted DIGIT sensors\n",
    "- `color_ds.npy` which stores the colored (RGB) version of the depth tactile data from the mounted DIGIT sensors\n",
    "- `poses_ds.npy` which stores the randomly-generated 6d hand poses from the simulation\n",
    "- `outcomes_ds.npy` which stores the outcomes of each random pose"
   ]
  },
  {
   "cell_type": "code",
   "execution_count": 5,
   "metadata": {},
   "outputs": [],
   "source": [
    "root = \"../datasets/\"\n",
    "\n",
    "object_names = [\"block1\", \"block2\", \"block3\", \"cylinder1\", \"cylinder2\", \"cylinder3\", \"mustard_bottle1\", \"mustard_bottle2\", \"mustard_bottle3\"]\n",
    "\n",
    "depth_data = np.empty((0, 2, 160, 120))\n",
    "color_data = np.empty((0, 2, 160, 120, 3))\n",
    "poses_data = np.empty((0, 6))\n",
    "grasp_outcomes_data = np.empty((0,))\n",
    "\n",
    "for object_name in object_names:\n",
    "    # Construct the relative paths of each dataset and load them into the notebook\n",
    "    depth_data1 = np.load(root + object_name + \"_ds/depth_ds.npy\")\n",
    "    color_data1 = np.load(root + object_name + \"_ds/color_ds.npy\")\n",
    "    poses_data1 = np.load(root + object_name + \"_ds/poses_ds.npy\")\n",
    "    grasp_outcomes_data1 = np.load(root + object_name + \"_ds/grasp_outcomes.npy\")\n",
    "\n",
    "    depth_data = np.append(depth_data, depth_data1, axis=0)\n",
    "    color_data = np.append(color_data, color_data1, axis=0)\n",
    "    poses_data = np.append(poses_data, poses_data1, axis=0)\n",
    "    grasp_outcomes_data = np.append(grasp_outcomes_data, grasp_outcomes_data1, axis=0)"
   ]
  },
  {
   "cell_type": "markdown",
   "metadata": {},
   "source": [
    "These datasets should all be in the form of $(N\\times...)$ where $N$ is the number of examples:"
   ]
  },
  {
   "cell_type": "code",
   "execution_count": 6,
   "metadata": {},
   "outputs": [
    {
     "name": "stdout",
     "output_type": "stream",
     "text": [
      "Shape of depth_data: (1440, 2, 160, 120)\n",
      "Shape of color_data: (1440, 2, 160, 120, 3)\n",
      "Shape of poses_data: (1440, 6)\n",
      "Shape of grasp_outcomes_data: (1440,)\n"
     ]
    }
   ],
   "source": [
    "print(f\"Shape of depth_data: {depth_data.shape}\")\n",
    "print(f\"Shape of color_data: {color_data.shape}\")\n",
    "print(f\"Shape of poses_data: {poses_data.shape}\")\n",
    "print(f\"Shape of grasp_outcomes_data: {grasp_outcomes_data.shape}\")"
   ]
  },
  {
   "cell_type": "markdown",
   "metadata": {},
   "source": [
    "Additionally, we confirm the number of successful and unsuccessful grasps recorded. This helps us in the next section to determine how many examples we should include for each class in order to produce a balanced dataset."
   ]
  },
  {
   "cell_type": "code",
   "execution_count": 7,
   "metadata": {},
   "outputs": [
    {
     "name": "stdout",
     "output_type": "stream",
     "text": [
      "# of sucessesful grasps: 720\n",
      "# of unsuccessful grasps: 720\n"
     ]
    }
   ],
   "source": [
    "print(f\"# of sucessesful grasps: {(grasp_outcomes_data == 1).sum()}\")\n",
    "print(f\"# of unsuccessful grasps: {(grasp_outcomes_data == 0).sum()}\")"
   ]
  },
  {
   "cell_type": "markdown",
   "metadata": {},
   "source": [
    "### 3. Preprocessing"
   ]
  },
  {
   "cell_type": "markdown",
   "metadata": {},
   "source": [
    "#### Normalization"
   ]
  },
  {
   "cell_type": "code",
   "execution_count": 8,
   "metadata": {},
   "outputs": [],
   "source": [
    "def normalize(arr):\n",
    "    # Normalize & standardize each column\n",
    "    mean = np.mean(arr, axis=0)\n",
    "    std = np.std(arr, axis=0)\n",
    "    \n",
    "    arr = (arr - mean) / std\n",
    "    arr = np.nan_to_num(arr, 0)\n",
    "    arr[np.isinf(arr)] = 0\n",
    "    return arr"
   ]
  },
  {
   "cell_type": "markdown",
   "metadata": {},
   "source": [
    "We will use a tactile+visual data representation with CNNs as the input for our MLP approach. We concatenate the depth and color to get our tactile dataset, then concatenate the tactile and visual datasets together."
   ]
  },
  {
   "cell_type": "code",
   "execution_count": 9,
   "metadata": {},
   "outputs": [
    {
     "name": "stdout",
     "output_type": "stream",
     "text": [
      "Shape of depth_data: (1440, 160, 240)\n",
      "Shape of color_data: (1440, 160, 240, 3)\n"
     ]
    },
    {
     "data": {
      "text/plain": [
       "tensor([[ 0.2862, -1.5077, -0.9990, -0.2105, -0.8715,  0.9131],\n",
       "        [ 0.4461, -1.6477, -0.9614, -0.2102, -0.8956,  0.8923],\n",
       "        [ 0.2453, -1.4865, -1.5484, -0.1948, -0.9384,  0.9097],\n",
       "        ...,\n",
       "        [ 1.7639, -1.0385,  0.7865, -0.2009,  2.3680, -1.5441],\n",
       "        [ 1.5807, -1.0040,  0.9577, -0.2104,  2.3414, -1.5381],\n",
       "        [ 1.5080, -0.5378,  1.1056, -0.2070,  2.3273, -1.5396]],\n",
       "       dtype=torch.float64)"
      ]
     },
     "execution_count": 9,
     "metadata": {},
     "output_type": "execute_result"
    }
   ],
   "source": [
    "depth_data = np.concatenate((depth_data[:, 0], depth_data[:, 1]), axis=2)\n",
    "color_data = np.concatenate((color_data[:, 0], color_data[:, 1]), axis=2)\n",
    "print(f\"Shape of depth_data: {depth_data.shape}\")\n",
    "print(f\"Shape of color_data: {color_data.shape}\")\n",
    "\n",
    "depth_ds = torch.from_numpy(normalize(depth_data))\n",
    "color_ds = torch.from_numpy(normalize(color_data))\n",
    "visual_ds = torch.from_numpy(np.nan_to_num(normalize(poses_data)))\n",
    "visual_ds"
   ]
  },
  {
   "cell_type": "code",
   "execution_count": 10,
   "metadata": {},
   "outputs": [
    {
     "name": "stdout",
     "output_type": "stream",
     "text": [
      "torch.Size([1440, 160, 240, 4]) torch.Size([1440, 153606])\n"
     ]
    }
   ],
   "source": [
    "tactile_ds = torch.cat([depth_ds.unsqueeze(-1), color_ds], dim=-1)\n",
    "tactile_ds = torch.nan_to_num(tactile_ds)\n",
    "complete_ds = torch.cat([tactile_ds.reshape(tactile_ds.shape[0], -1), visual_ds], dim=1)\n",
    "complete_ds = torch.nan_to_num(complete_ds)\n",
    "print(tactile_ds.shape, complete_ds.shape)"
   ]
  },
  {
   "attachments": {},
   "cell_type": "markdown",
   "metadata": {},
   "source": [
    "#### Dimensionality reduction"
   ]
  },
  {
   "cell_type": "code",
   "execution_count": 11,
   "metadata": {},
   "outputs": [],
   "source": [
    "# A simple convolutional neural network that extracts features from an input tensor\n",
    "class FeatureExtractorCNN(nn.Module):\n",
    "    def __init__(self):\n",
    "        super(FeatureExtractorCNN, self).__init__()\n",
    "        self.conv1 = nn.Conv2d(4, 16, kernel_size=3, stride=1, padding=1)\n",
    "        self.conv2 = nn.Conv2d(16, 64, kernel_size=3, stride=1, padding=1)\n",
    "        self.conv3 = nn.Conv2d(64, 128, kernel_size=3, stride=1, padding=1)\n",
    "        self.conv4 = nn.Conv2d(128, 256, kernel_size=3, stride=1, padding=1)\n",
    "\n",
    "        self.pool = nn.MaxPool2d(kernel_size=3)\n",
    "\n",
    "\n",
    "    def forward(self, x):\n",
    "        x = self.conv1(x)\n",
    "        x = nn.functional.relu(x)\n",
    "        x = self.pool(x)\n",
    "\n",
    "        x = self.conv2(x)\n",
    "        x = nn.functional.relu(x)\n",
    "        x = self.pool(x)\n",
    "        \n",
    "        x = self.conv3(x)\n",
    "        x = nn.functional.relu(x)\n",
    "        x = self.pool(x)\n",
    "\n",
    "        x = self.conv4(x)\n",
    "        x = nn.functional.relu(x)\n",
    "        x = self.pool(x)\n",
    "\n",
    "        return x"
   ]
  },
  {
   "cell_type": "code",
   "execution_count": 12,
   "metadata": {},
   "outputs": [
    {
     "data": {
      "text/plain": [
       "torch.Size([1440, 512])"
      ]
     },
     "execution_count": 12,
     "metadata": {},
     "output_type": "execute_result"
    }
   ],
   "source": [
    "# Preprocess data using CNN feature extraction\n",
    "cnn = FeatureExtractorCNN()\n",
    "cnn_tactile = torch.cat([cnn(img.float().permute(2,0,1)).unsqueeze(0) for img in tactile_ds])\n",
    "cnn_tactile = cnn_tactile.reshape(cnn_tactile.shape[0], -1)\n",
    "cnn_tactile.shape"
   ]
  },
  {
   "attachments": {},
   "cell_type": "markdown",
   "metadata": {},
   "source": [
    "### 4. Testing different data representations"
   ]
  },
  {
   "cell_type": "markdown",
   "metadata": {},
   "source": [
    "In our MLP model, there are two fully connected (dense) layers, each with an activation function (ReLU for the first layer and no activation for the second layer). The input size, hidden size, and output size are parameters that need to be specified when creating an instance of the MLP."
   ]
  },
  {
   "cell_type": "code",
   "execution_count": 13,
   "metadata": {},
   "outputs": [],
   "source": [
    "class MLP(nn.Module):\n",
    "    def __init__(self, input_size, hidden_size, output_size):\n",
    "        super(MLP, self).__init__()\n",
    "        self.fc1 = nn.Linear(input_size, hidden_size)\n",
    "        self.fc2 = nn.Linear(hidden_size, hidden_size)\n",
    "        self.fc3 = nn.Linear(hidden_size, output_size)\n",
    "        self.relu = nn.ReLU()\n",
    "\n",
    "        self.criterion = nn.BCEWithLogitsLoss()\n",
    "        self.optimizer = optim.Adam(self.parameters())\n",
    "\n",
    "    def forward(self, x):\n",
    "        x = self.fc1(x)\n",
    "        x = self.relu(x)\n",
    "        x = self.fc2(x)\n",
    "        x = self.relu(x)\n",
    "        x = self.fc3(x)\n",
    "        return x\n",
    "    \n",
    "    def train_mlp(self, epochs, X_train, y_train):\n",
    "        self.losses = []\n",
    "        for _ in range(epochs):\n",
    "            inputs = torch.from_numpy(X_train).float()\n",
    "            labels = torch.from_numpy(y_train).float().view(-1, 1)\n",
    "\n",
    "            # Zero the gradients\n",
    "            self.optimizer.zero_grad()\n",
    "\n",
    "            # Forward pass\n",
    "            preds = self(inputs)\n",
    "            loss = self.criterion(preds, labels)\n",
    "            self.losses.append(loss.item())\n",
    "\n",
    "            # Backward pass and optimization\n",
    "            loss.backward()\n",
    "            self.optimizer.step()\n",
    "        \n",
    "    def eval_mlp(self, X_test, y_test, verbose=False):\n",
    "        # Evaluate the performance of the model on the testing set\n",
    "        with torch.no_grad():\n",
    "            inputs = torch.from_numpy(X_test).float()\n",
    "            labels = torch.from_numpy(y_test).float().view(-1, 1)\n",
    "\n",
    "            # Forward pass\n",
    "            final_preds = self(inputs)\n",
    "            predicted = (final_preds > 0).float()\n",
    "            \n",
    "            # Confusion matrix\n",
    "            if verbose:\n",
    "                cm = confusion_matrix(y_test, predicted)\n",
    "                sns.heatmap(cm, linewidths=1, annot=True, fmt='g')\n",
    "\n",
    "            # Accuracy\n",
    "            accuracy = (predicted == labels).float().mean()\n",
    "            print(f\"Accuracy of MLP model: {accuracy*100:.2f}%\")\n",
    "            return accuracy.item()\n",
    "    \n",
    "    def plot_losses(self):\n",
    "        plt.plot(self.losses)\n",
    "        plt.xlabel('Epochs')\n",
    "        plt.ylabel('Training Loss')\n",
    "        plt.show\n"
   ]
  },
  {
   "attachments": {},
   "cell_type": "markdown",
   "metadata": {},
   "source": [
    "#### 4a. Tactile only + CNN -> MLP"
   ]
  },
  {
   "cell_type": "code",
   "execution_count": 14,
   "metadata": {},
   "outputs": [],
   "source": [
    "X_train, X_test, y_train, y_test = train_test_split(cnn_tactile.detach().numpy(), grasp_outcomes_data, test_size=0.2)"
   ]
  },
  {
   "cell_type": "code",
   "execution_count": 15,
   "metadata": {},
   "outputs": [],
   "source": [
    "mlp4a = MLP(input_size=512, hidden_size=64, output_size=1)\n",
    "mlp4a.train_mlp(epochs=1000, X_train=X_train, y_train=y_train)\n",
    "# mlp4a.plot_losses()"
   ]
  },
  {
   "cell_type": "code",
   "execution_count": 16,
   "metadata": {},
   "outputs": [
    {
     "name": "stdout",
     "output_type": "stream",
     "text": [
      "Accuracy of MLP model: 67.71%\n"
     ]
    },
    {
     "data": {
      "text/plain": [
       "0.6770833134651184"
      ]
     },
     "execution_count": 16,
     "metadata": {},
     "output_type": "execute_result"
    },
    {
     "data": {
      "image/png": "[encoded data removed]",
      "text/plain": [
       "<Figure size 640x480 with 2 Axes>"
      ]
     },
     "metadata": {},
     "output_type": "display_data"
    }
   ],
   "source": [
    "mlp4a.eval_mlp(X_test=X_test, y_test=y_test, verbose=True)"
   ]
  },
  {
   "attachments": {},
   "cell_type": "markdown",
   "metadata": {},
   "source": [
    "### 4b. Visual only + CNN -> MLP"
   ]
  },
  {
   "cell_type": "code",
   "execution_count": 17,
   "metadata": {},
   "outputs": [],
   "source": [
    "X_train, X_test, y_train, y_test = train_test_split(visual_ds.detach().numpy(), grasp_outcomes_data, test_size=0.2)"
   ]
  },
  {
   "cell_type": "code",
   "execution_count": 18,
   "metadata": {},
   "outputs": [],
   "source": [
    "mlp4b = MLP(input_size=6, hidden_size=4, output_size=1)\n",
    "mlp4b.train_mlp(epochs=1000, X_train=X_train, y_train=y_train)\n",
    "# mlp4b.plot_losses()"
   ]
  },
  {
   "cell_type": "code",
   "execution_count": 19,
   "metadata": {},
   "outputs": [
    {
     "name": "stdout",
     "output_type": "stream",
     "text": [
      "Accuracy of MLP model: 51.04%\n"
     ]
    },
    {
     "data": {
      "text/plain": [
       "0.5104166865348816"
      ]
     },
     "execution_count": 19,
     "metadata": {},
     "output_type": "execute_result"
    },
    {
     "data": {
      "image/png": "[encoded data removed]",
      "text/plain": [
       "<Figure size 640x480 with 2 Axes>"
      ]
     },
     "metadata": {},
     "output_type": "display_data"
    }
   ],
   "source": [
    "mlp4b.eval_mlp(X_test=X_test, y_test=y_test, verbose=True)"
   ]
  },
  {
   "attachments": {},
   "cell_type": "markdown",
   "metadata": {},
   "source": [
    "### 5. Proposed method - All data -> MLP"
   ]
  },
  {
   "attachments": {},
   "cell_type": "markdown",
   "metadata": {},
   "source": [
    "We split our data into training and testing datasets for future sections.\n",
    "We will only use the `complete_ds` for this approach. "
   ]
  },
  {
   "cell_type": "code",
   "execution_count": 20,
   "metadata": {},
   "outputs": [
    {
     "data": {
      "text/plain": [
       "torch.Size([1440, 518])"
      ]
     },
     "execution_count": 20,
     "metadata": {},
     "output_type": "execute_result"
    }
   ],
   "source": [
    "# We simply combine the cnn-processed tactile data (from Section 5.3.1) with the visual data\n",
    "cnn5_complete_ds = torch.cat([cnn_tactile.reshape(cnn_tactile.shape[0], -1), visual_ds], dim=1)\n",
    "cnn5_complete_ds.shape"
   ]
  },
  {
   "cell_type": "code",
   "execution_count": 21,
   "metadata": {},
   "outputs": [],
   "source": [
    "X_cnn_complete_train, X_cnn_complete_test, y_cnn_complete_train, y_cnn_complete_test = train_test_split(cnn5_complete_ds.detach().numpy(), grasp_outcomes_data, test_size=0.2)"
   ]
  },
  {
   "cell_type": "code",
   "execution_count": 22,
   "metadata": {},
   "outputs": [],
   "source": [
    "mlp5 = MLP(input_size=518, hidden_size=64, output_size=1)\n",
    "mlp5.train_mlp(epochs=1000, X_train=X_cnn_complete_train, y_train=y_cnn_complete_train)\n",
    "# mlp5.plot_losses()"
   ]
  },
  {
   "cell_type": "code",
   "execution_count": 23,
   "metadata": {},
   "outputs": [
    {
     "name": "stdout",
     "output_type": "stream",
     "text": [
      "Accuracy of MLP model: 72.22%\n"
     ]
    },
    {
     "data": {
      "text/plain": [
       "0.7222222089767456"
      ]
     },
     "execution_count": 23,
     "metadata": {},
     "output_type": "execute_result"
    },
    {
     "data": {
      "image/png": "[encoded data removed]",
      "text/plain": [
       "<Figure size 640x480 with 2 Axes>"
      ]
     },
     "metadata": {},
     "output_type": "display_data"
    }
   ],
   "source": [
    "mlp5.eval_mlp(X_test=X_cnn_complete_test, y_test=y_cnn_complete_test, verbose=True)"
   ]
  },
  {
   "cell_type": "markdown",
   "metadata": {},
   "source": [
    "### 6. MLP with object features\n",
    "We additionally train our MLP with tactile + visual data, where visual data consists of end effector poses and object features."
   ]
  },
  {
   "cell_type": "markdown",
   "metadata": {},
   "source": [
    "#### 6a. Clustering for object features using PCA\n",
    "For determining the successfulness of object feature representation in identifying various objects"
   ]
  },
  {
   "cell_type": "code",
   "execution_count": 24,
   "metadata": {},
   "outputs": [],
   "source": [
    "import numpy as np\n",
    "from sklearn.decomposition import PCA\n",
    "from sklearn.cluster import KMeans, SpectralClustering\n",
    "from sklearn.preprocessing import StandardScaler\n",
    "import matplotlib.pyplot as plt\n",
    "\n",
    "np.set_printoptions(precision=2, formatter={'float_kind': \"{:.3f}\".format})"
   ]
  },
  {
   "cell_type": "markdown",
   "metadata": {},
   "source": [
    "### Loading object features"
   ]
  },
  {
   "cell_type": "code",
   "execution_count": 25,
   "metadata": {},
   "outputs": [],
   "source": [
    "### Object features\n",
    "block_features = np.array([\n",
    "    [0.025, 0.05, 0.05, 0., 0., 0., 0., 0., 0.],\n",
    "    [0.03, 0.025, 0.045, 0., 0., 0., 0., 0., 0.],\n",
    "    [0.05, 0.025, 0.04, 0., 0., 0., 0., 0., 0.],\n",
    "    # [8251.86033209, 380793.32718545, 8251.86033209, 380793.32718545, 7340.53467028, 323264.58605476],\n",
    "    # [17358.04440407, 46879.37104777, 25111.58320378, 60764.07706612, 39914.37898048, 46661.69902607],\n",
    "    # [8941.59628842, 178701.35111026, 6592.38039092, 211671.05821614, 37993.39435821, 115665.30894101]\n",
    "])\n",
    "\n",
    "cylinder_features = np.array([\n",
    "    [0.04, 0.04, 0.05, 950.21606561, 14540.28434464, 950.21606561, 14540.28434464, 950.21606561, 14540.28434464],\n",
    "    [0.045, 0.045, 0.035, 750.78800246, 11488.6197291, 750.78800246, 11488.6197291, 750.78800246, 11488.6197291],\n",
    "    [0.034, 0.034, 0.045, 1315.17794549, 20124.96103064, 1315.17794549, 20124.96103064, 1315.17794549, 20124.96103064]\n",
    "    # [1863.04007165, 4445.05882512, 3444.58243043, 116245.56798876, 3444.58243043, 116245.56798876],\n",
    "    # [25350.56805999, 90897.43464835, 25130.96875937, 90779.57624788, 40959.86108762, 65384.53394801],\n",
    "    # [8129.18609508, 13671.31408669,  5531.60803704, 12058.88586025, 7112.6668489 , 40254.7491457]\n",
    "])\n",
    "\n",
    "bottle_features = np.array([\n",
    "    [0.06, 0.04, 0.04, 43195.64459266, 114198.0441697 , 45229.93706864, 135651.61794731, 75768.06626518,  83802.00991944],\n",
    "    [0.04, 0.06, 0.06, 68993.34322089, 220902.86884084, 75354.47923164, 239160.99530455, 109695.41304924, 147938.06047763],\n",
    "    [0.04, 0.06, 0.04, 61744.75459905, 168925.8805044 , 68143.84372052, 148775.07141178, 73102.67367022, 102953.40831915]\n",
    "    # [58743.54544376, 155331.31241432, 64091.03332161, 156228.08639407, 78705.15565092, 107053.40095796],\n",
    "    # [50165.53259195, 64214.77371792, 38058.77302717, 82455.45932214, 53901.08662624, 65393.21442221],\n",
    "    # [61150.93285712, 137872.41617152,  59952.3159986 , 132257.80102161, 83815.39602093, 134698.94798265]\n",
    "])\n",
    "\n",
    "object_names = {0: 'cylinder', 1: 'block', 2: 'bottle'}"
   ]
  },
  {
   "cell_type": "markdown",
   "metadata": {},
   "source": [
    "### Feature transformation"
   ]
  },
  {
   "cell_type": "markdown",
   "metadata": {},
   "source": [
    "Concatenating features together"
   ]
  },
  {
   "cell_type": "code",
   "execution_count": 26,
   "metadata": {},
   "outputs": [
    {
     "data": {
      "text/plain": [
       "array([[0.040, 0.040, 0.050, 950.216, 14540.284, 950.216, 14540.284,\n",
       "        950.216, 14540.284],\n",
       "       [0.045, 0.045, 0.035, 750.788, 11488.620, 750.788, 11488.620,\n",
       "        750.788, 11488.620],\n",
       "       [0.034, 0.034, 0.045, 1315.178, 20124.961, 1315.178, 20124.961,\n",
       "        1315.178, 20124.961],\n",
       "       [0.025, 0.050, 0.050, 0.000, 0.000, 0.000, 0.000, 0.000, 0.000],\n",
       "       [0.030, 0.025, 0.045, 0.000, 0.000, 0.000, 0.000, 0.000, 0.000],\n",
       "       [0.050, 0.025, 0.040, 0.000, 0.000, 0.000, 0.000, 0.000, 0.000],\n",
       "       [0.060, 0.040, 0.040, 43195.645, 114198.044, 45229.937,\n",
       "        135651.618, 75768.066, 83802.010],\n",
       "       [0.040, 0.060, 0.060, 68993.343, 220902.869, 75354.479,\n",
       "        239160.995, 109695.413, 147938.060],\n",
       "       [0.040, 0.060, 0.040, 61744.755, 168925.881, 68143.844,\n",
       "        148775.071, 73102.674, 102953.408]])"
      ]
     },
     "execution_count": 26,
     "metadata": {},
     "output_type": "execute_result"
    }
   ],
   "source": [
    "objects = (cylinder_features, block_features, bottle_features)\n",
    "features = np.concatenate(objects)\n",
    "labels = np.array([0, 0, 0, 1, 1, 1, 2, 2, 2])\n",
    "features"
   ]
  },
  {
   "cell_type": "markdown",
   "metadata": {},
   "source": [
    "Standardize the data"
   ]
  },
  {
   "cell_type": "code",
   "execution_count": 27,
   "metadata": {},
   "outputs": [
    {
     "data": {
      "text/plain": [
       "array([[-0.045, -0.171, 0.707, -0.673, -0.583, -0.671, -0.586, -0.677,\n",
       "        -0.536],\n",
       "       [0.460, 0.234, -1.414, -0.680, -0.621, -0.677, -0.622, -0.682,\n",
       "        -0.595],\n",
       "       [-0.650, -0.657, 0.000, -0.660, -0.513, -0.659, -0.519, -0.668,\n",
       "        -0.428],\n",
       "       [-1.558, 0.639, 0.707, -0.707, -0.765, -0.702, -0.760, -0.700,\n",
       "        -0.817],\n",
       "       [-1.054, -1.386, 0.000, -0.707, -0.765, -0.702, -0.760, -0.700,\n",
       "        -0.817],\n",
       "       [0.964, -1.386, -0.707, -0.707, -0.765, -0.702, -0.760, -0.700,\n",
       "        -0.817],\n",
       "       [1.973, -0.171, -0.707, 0.846, 0.664, 0.789, 0.869, 1.125, 0.801],\n",
       "       [-0.045, 1.449, 2.121, 1.774, 1.999, 1.781, 2.112, 1.942, 2.039],\n",
       "       [-0.045, 1.449, -0.707, 1.513, 1.349, 1.544, 1.026, 1.061, 1.171]])"
      ]
     },
     "execution_count": 27,
     "metadata": {},
     "output_type": "execute_result"
    }
   ],
   "source": [
    "scaler = StandardScaler()\n",
    "features = scaler.fit_transform(features)\n",
    "features"
   ]
  },
  {
   "attachments": {},
   "cell_type": "markdown",
   "metadata": {},
   "source": [
    "### PCA"
   ]
  },
  {
   "cell_type": "code",
   "execution_count": 28,
   "metadata": {},
   "outputs": [],
   "source": [
    "def pca(data, k, verbose=True):\n",
    "    pca = PCA(n_components=k)\n",
    "    pca.fit(data)\n",
    "\n",
    "    if verbose:\n",
    "        print(f\"Variance captured: {sum(pca.explained_variance_ratio_)*100:.2f}%\")\n",
    "    return pca.transform(data)"
   ]
  },
  {
   "cell_type": "markdown",
   "metadata": {},
   "source": [
    "Determine the number of components to use"
   ]
  },
  {
   "cell_type": "code",
   "execution_count": 29,
   "metadata": {},
   "outputs": [
    {
     "name": "stdout",
     "output_type": "stream",
     "text": [
      "Variance captured: 74.58%\n",
      "Variance captured: 91.43%\n",
      "Variance captured: 97.34%\n",
      "Variance captured: 99.65%\n"
     ]
    }
   ],
   "source": [
    "for i in range(1, 5):\n",
    "    pca_res = pca(features, k=i)"
   ]
  },
  {
   "cell_type": "code",
   "execution_count": 30,
   "metadata": {},
   "outputs": [
    {
     "name": "stdout",
     "output_type": "stream",
     "text": [
      "Variance captured: 91.43%\n",
      "[[-1.376 -0.587]\n",
      " [-1.572 1.024]\n",
      " [-1.585 -0.449]\n",
      " [-1.585 -1.895]\n",
      " [-2.230 -0.581]\n",
      " [-2.109 1.327]\n",
      " [2.014 2.125]\n",
      " [5.193 -1.315]\n",
      " [3.250 0.351]]\n"
     ]
    },
    {
     "data": {
      "image/png": "[encoded data removed]",
      "text/plain": [
       "<Figure size 640x480 with 1 Axes>"
      ]
     },
     "metadata": {},
     "output_type": "display_data"
    }
   ],
   "source": [
    "### Plot 2-feature PCA results\n",
    "pca2d = pca(features, k=2)\n",
    "print(pca2d)\n",
    "\n",
    "colors = ['r', 'g', 'b']\n",
    "for i, c in zip(np.unique(labels), colors):\n",
    "    plt.scatter(pca2d[labels == i, 0], pca2d[labels == i, 1], c=c, label=object_names[i])\n",
    "\n",
    "plt.xlabel('Component 1')\n",
    "plt.ylabel('Component 2')\n",
    "plt.legend()\n",
    "plt.show()"
   ]
  },
  {
   "cell_type": "code",
   "execution_count": 31,
   "metadata": {},
   "outputs": [
    {
     "name": "stdout",
     "output_type": "stream",
     "text": [
      "Variance captured: 97.34%\n"
     ]
    },
    {
     "data": {
      "image/png": "[encoded data removed]",
      "text/plain": [
       "<Figure size 640x480 with 1 Axes>"
      ]
     },
     "metadata": {},
     "output_type": "display_data"
    }
   ],
   "source": [
    "### Plot 3-feature PCA results\n",
    "pca3d = pca(features, k=3)\n",
    "\n",
    "fig = plt.figure()\n",
    "ax = fig.add_subplot(111, projection='3d')\n",
    "\n",
    "colors = ['r', 'g', 'b']\n",
    "for i, c in zip(np.unique(labels), colors):\n",
    "    ax.scatter(pca3d[labels == i, 0], pca3d[labels == i, 1], pca3d[labels == i, 2], c=c, label=object_names[i])\n",
    "\n",
    "ax.set_xlabel('Component 1')\n",
    "ax.set_ylabel('Component 2')\n",
    "ax.set_zlabel('Component 3')\n",
    "ax.set_aspect('equal', 'box')\n",
    "ax.legend()\n",
    "plt.show()"
   ]
  },
  {
   "cell_type": "code",
   "execution_count": 32,
   "metadata": {},
   "outputs": [
    {
     "name": "stdout",
     "output_type": "stream",
     "text": [
      "PCA clustering accuracy: 88.89\n",
      "[0 0 0 1 1 1 2 2 2]\n",
      "[0 0 1 1 1 1 2 2 2]\n"
     ]
    }
   ],
   "source": [
    "from sklearn.linear_model import LogisticRegression\n",
    "from sklearn.metrics import accuracy_score\n",
    "\n",
    "\n",
    "clf = LogisticRegression()\n",
    "clf.fit(features, labels)\n",
    "ypred = clf.predict(features)\n",
    "\n",
    "accuracy = accuracy_score(labels, ypred) * 100\n",
    "print(f\"PCA clustering accuracy: {accuracy:.2f}\")\n",
    "print(labels)\n",
    "print(ypred)"
   ]
  },
  {
   "cell_type": "markdown",
   "metadata": {},
   "source": [
    "#### 6b. Helper function"
   ]
  },
  {
   "cell_type": "markdown",
   "metadata": {},
   "source": [
    "We create a helper function to preprocess datasets & extract features via CNN"
   ]
  },
  {
   "cell_type": "code",
   "execution_count": 58,
   "metadata": {},
   "outputs": [],
   "source": [
    "# Helper function to preprocess datasets & extract features via CNN\n",
    "def consistent_sampling(dataset1, dataset2, N):\n",
    "    num_rows = len(dataset1)\n",
    "    indices = np.random.choice(len(dataset1), N)\n",
    "    samples1, samples2 = [], []\n",
    "    for i in indices:\n",
    "        samples1.append(dataset1[i])\n",
    "        samples2.append(dataset2[i])\n",
    "    \n",
    "    samples1 = np.stack(samples1, axis=0)\n",
    "    samples2 = np.stack(samples2, axis=0)\n",
    "    return samples1, samples2\n",
    "\n",
    "def prepare_cnn_dataset(object_names, object_features, pca_required=False, k=None, sampling=False, N=None):\n",
    "    mlp_final_ds = []\n",
    "    mlp_grasp_outcomes_ds = []\n",
    "\n",
    "    for i in range(len(object_names)):\n",
    "        object_name = object_names[i]\n",
    "\n",
    "        # Construct the relative paths of each dataset and load them into the notebook\n",
    "        depth_data = np.load(root + object_name + \"_ds/depth_ds.npy\")\n",
    "        color_data = np.load(root + object_name + \"_ds/color_ds.npy\")\n",
    "        poses_data = np.load(root + object_name + \"_ds/poses_ds.npy\")\n",
    "        grasp_outcomes_data = np.load(root + object_name + \"_ds/grasp_outcomes.npy\")\n",
    "\n",
    "        depth_data = np.concatenate((depth_data[:, 0], depth_data[:, 1]), axis=2)\n",
    "        color_data = np.concatenate((color_data[:, 0], color_data[:, 1]), axis=2)\n",
    "\n",
    "        depth_ds = torch.from_numpy(normalize(depth_data))\n",
    "        color_ds = torch.from_numpy(normalize(color_data))\n",
    "        visual_ds = torch.from_numpy(normalize(poses_data))\n",
    "\n",
    "        tactile_ds = torch.cat([depth_ds.unsqueeze(-1), color_ds], dim=-1)\n",
    "        complete_ds = torch.cat([tactile_ds.reshape(tactile_ds.shape[0], -1), visual_ds], dim=1)\n",
    "\n",
    "        cnn = FeatureExtractorCNN()\n",
    "        cnn_tactile = torch.cat([cnn(img.float().permute(2,0,1)).unsqueeze(0) for img in tactile_ds])\n",
    "        cnn_tactile = cnn_tactile.reshape(cnn_tactile.shape[0], -1)\n",
    "        \n",
    "        if pca_required and k is not None:\n",
    "            cnn_tactile = torch.from_numpy(pca(np.array(cnn_tactile.detach().numpy()), k=k, verbose=False))\n",
    "        \n",
    "        cnn6_complete_ds = torch.cat([cnn_tactile.reshape(cnn_tactile.shape[0], -1), visual_ds], dim=1)\n",
    "        \n",
    "        # Prepare object geometric features\n",
    "        geometric_features = object_features[i]\n",
    "        geometric_features = geometric_features.reshape(1, len(object_features[i]))\n",
    "\n",
    "        # Combine the final data\n",
    "        final_dataset = np.concatenate((cnn6_complete_ds.detach().numpy(), np.tile(geometric_features, (cnn6_complete_ds.shape[0], 1))), axis=1)\n",
    "        \n",
    "        mlp_final_ds.append(final_dataset)\n",
    "        mlp_grasp_outcomes_ds.append(grasp_outcomes_data)\n",
    "    \n",
    "    # print(f\"k={k}\")\n",
    "    mlp_final_ds = np.vstack(mlp_final_ds)\n",
    "    mlp_final_ds = np.array(normalize(mlp_final_ds))\n",
    "    mlp_grasp_outcomes_ds = np.concatenate(np.vstack(mlp_grasp_outcomes_ds))\n",
    "    \n",
    "    if sampling and N is not None:\n",
    "        mlp_final_ds, mlp_grasp_outcomes_ds = consistent_sampling(mlp_final_ds, mlp_grasp_outcomes_ds, N=N)\n",
    "    return mlp_final_ds, mlp_grasp_outcomes_ds"
   ]
  },
  {
   "cell_type": "markdown",
   "metadata": {},
   "source": [
    "#### 6b. MLP Training\n",
    "Complete dataset: Tactile (CNN) + Visual (ee pose & geometric features)"
   ]
  },
  {
   "cell_type": "markdown",
   "metadata": {},
   "source": [
    "We will use the following object features for training"
   ]
  },
  {
   "cell_type": "code",
   "execution_count": 34,
   "metadata": {},
   "outputs": [],
   "source": [
    "object_names = [\"block1\", \"block2\", \"block3\", \"cylinder1\", \"cylinder2\", \"cylinder3\", \"mustard_bottle1\", \"mustard_bottle2\", \"mustard_bottle3\"]"
   ]
  },
  {
   "cell_type": "code",
   "execution_count": 35,
   "metadata": {},
   "outputs": [],
   "source": [
    "object_features = np.concatenate((block_features, cylinder_features, bottle_features))"
   ]
  },
  {
   "cell_type": "code",
   "execution_count": 36,
   "metadata": {},
   "outputs": [
    {
     "name": "stdout",
     "output_type": "stream",
     "text": [
      "k=None\n"
     ]
    }
   ],
   "source": [
    "mlp6b_final_ds, mlp6b_grasp_outcomes_ds = prepare_cnn_dataset(object_names, object_features, pca_required=False, k=None)"
   ]
  },
  {
   "cell_type": "code",
   "execution_count": 37,
   "metadata": {},
   "outputs": [],
   "source": [
    "X_final_complete_train, X_final_complete_test, y_final_complete_train, y_final_complete_test = train_test_split(mlp6b_final_ds, mlp6b_grasp_outcomes_ds, test_size=0.2)"
   ]
  },
  {
   "cell_type": "code",
   "execution_count": 38,
   "metadata": {},
   "outputs": [],
   "source": [
    "mlp6b = MLP(input_size=527, hidden_size=64, output_size=1)\n",
    "mlp6b.train_mlp(epochs=1000, X_train=X_final_complete_train, y_train=y_final_complete_train)"
   ]
  },
  {
   "cell_type": "code",
   "execution_count": 39,
   "metadata": {},
   "outputs": [
    {
     "name": "stdout",
     "output_type": "stream",
     "text": [
      "Accuracy of MLP model: 75.35%\n"
     ]
    },
    {
     "data": {
      "text/plain": [
       "0.7534722089767456"
      ]
     },
     "execution_count": 39,
     "metadata": {},
     "output_type": "execute_result"
    },
    {
     "data": {
      "image/png": "[encoded data removed]",
      "text/plain": [
       "<Figure size 640x480 with 2 Axes>"
      ]
     },
     "metadata": {},
     "output_type": "display_data"
    }
   ],
   "source": [
    "mlp6b.eval_mlp(X_test=X_final_complete_test, y_test=y_final_complete_test, verbose=True)"
   ]
  },
  {
   "cell_type": "markdown",
   "metadata": {},
   "source": [
    "#### 6c. MLP Training 2\n",
    "Complete dataset: Tactile (CNN -> PCA) + Visual (ee pose & geometric features)"
   ]
  },
  {
   "cell_type": "code",
   "execution_count": 40,
   "metadata": {},
   "outputs": [],
   "source": [
    "object_names = [\"block1\", \"block2\", \"block3\", \"cylinder1\", \"cylinder2\", \"cylinder3\", \"mustard_bottle1\", \"mustard_bottle2\", \"mustard_bottle3\"]"
   ]
  },
  {
   "cell_type": "markdown",
   "metadata": {},
   "source": [
    "We conduct the following experiment to determine the optimal value of $k$ for PCA:\n",
    "1. Run train_mlp6b() from $k=1$ to $k=20$\n",
    "2. Repeat 1 for 2 times to find the average accuracy for each $k$, and choose $k$ value for the maximum average\n",
    "We found that $k=11$ gives the best accuracy"
   ]
  },
  {
   "cell_type": "code",
   "execution_count": 41,
   "metadata": {},
   "outputs": [],
   "source": [
    "def mlp6c(object_names):\n",
    "    accuracies = []\n",
    "    for i in range(0, 20):\n",
    "        mlp6c_final_ds, mlp6c_grasp_outcomes_ds = prepare_cnn_dataset(object_names, object_features, pca_required=True, k=i+1)\n",
    "        X_final_complete_train, X_final_complete_test, y_final_complete_train, y_final_complete_test = train_test_split(mlp6c_final_ds, mlp6c_grasp_outcomes_ds, test_size=0.2)\n",
    "        \n",
    "        mlp6c = MLP(input_size=mlp6c_final_ds.shape[1], hidden_size=64, output_size=1)\n",
    "        mlp6c.train_mlp(epochs=1000, X_train=X_final_complete_train, y_train=y_final_complete_train)\n",
    "        accuracy = mlp6c.eval_mlp(X_test=X_final_complete_test, y_test=y_final_complete_test, verbose=False)\n",
    "        accuracies.append(accuracy)\n",
    "    return accuracies"
   ]
  },
  {
   "cell_type": "markdown",
   "metadata": {},
   "source": [
    "#### 6d. Results visualisation\n",
    "This section is just for generating visualisations for the report"
   ]
  },
  {
   "cell_type": "code",
   "execution_count": 42,
   "metadata": {},
   "outputs": [],
   "source": [
    "# Store the results of running the mlp6c() function across 5 trials\n",
    "# pca_trial_accuracies = np.array([mlp6c(object_names) for _ in range(5)])\n",
    "# pca_trial_accuracies"
   ]
  },
  {
   "cell_type": "code",
   "execution_count": 43,
   "metadata": {},
   "outputs": [],
   "source": [
    "# Set the size of the plot\n",
    "# fig, ax = plt.subplots(figsize=(15,5))\n",
    "\n",
    "# # Create heatmap plot using seaborn and label each cell with its value\n",
    "# sns.heatmap(pca_trial_accuracies, annot=True, fmt='.2f', ax=ax, square=True, cmap=sns.cubehelix_palette(as_cmap=True))\n",
    "\n",
    "# # Show plot\n",
    "# plt.title('Effect of dimensionality of PCA-reduced dataset on MLP performance')\n",
    "# plt.xlabel('Number of k components and corresponding accuracy of MLP using PCA-reduced dataset')\n",
    "# plt.ylabel('Trial number')\n",
    "# plt.show()"
   ]
  },
  {
   "cell_type": "markdown",
   "metadata": {},
   "source": [
    "### 7. Experiments"
   ]
  },
  {
   "cell_type": "markdown",
   "metadata": {},
   "source": [
    "#### 7.1 Train MLP on 2 blocks, test on remaining block\n",
    "Objective: see MLP's robustness"
   ]
  },
  {
   "cell_type": "code",
   "execution_count": 44,
   "metadata": {},
   "outputs": [
    {
     "name": "stdout",
     "output_type": "stream",
     "text": [
      "k=20\n"
     ]
    },
    {
     "name": "stderr",
     "output_type": "stream",
     "text": [
      "C:\\Users\\Justin\\AppData\\Local\\Temp\\ipykernel_2748\\218299750.py:6: RuntimeWarning: invalid value encountered in true_divide\n",
      "  arr = (arr - mean) / std\n"
     ]
    },
    {
     "ename": "KeyboardInterrupt",
     "evalue": "",
     "output_type": "error",
     "traceback": [
      "\u001b[1;31m---------------------------------------------------------------------------\u001b[0m",
      "\u001b[1;31mKeyboardInterrupt\u001b[0m                         Traceback (most recent call last)",
      "Cell \u001b[1;32mIn[44], line 19\u001b[0m\n\u001b[0;32m     16\u001b[0m testing_object_names \u001b[39m=\u001b[39m combination[\u001b[39m1\u001b[39m]\n\u001b[0;32m     18\u001b[0m mlp7a_X_train_ds, mlp7a_y_train_ds \u001b[39m=\u001b[39m prepare_cnn_dataset(training_object_names, object_features, pca_required\u001b[39m=\u001b[39m\u001b[39mTrue\u001b[39;00m, k\u001b[39m=\u001b[39mK)\n\u001b[1;32m---> 19\u001b[0m mlp7a_X_valid_ds, mlp7a_y_valid_ds \u001b[39m=\u001b[39m prepare_cnn_dataset(testing_object_names, object_features, pca_required\u001b[39m=\u001b[39;49m\u001b[39mTrue\u001b[39;49;00m, k\u001b[39m=\u001b[39;49mK)\n\u001b[0;32m     21\u001b[0m \u001b[39m# Calculate the average accuracy across 5 training trials\u001b[39;00m\n\u001b[0;32m     22\u001b[0m accuracies \u001b[39m=\u001b[39m []\n",
      "Cell \u001b[1;32mIn[33], line 37\u001b[0m, in \u001b[0;36mprepare_cnn_dataset\u001b[1;34m(object_names, object_features, pca_required, k, sampling, N)\u001b[0m\n\u001b[0;32m     34\u001b[0m depth_data \u001b[39m=\u001b[39m np\u001b[39m.\u001b[39mconcatenate((depth_data[:, \u001b[39m0\u001b[39m], depth_data[:, \u001b[39m1\u001b[39m]), axis\u001b[39m=\u001b[39m\u001b[39m2\u001b[39m)\n\u001b[0;32m     35\u001b[0m color_data \u001b[39m=\u001b[39m np\u001b[39m.\u001b[39mconcatenate((color_data[:, \u001b[39m0\u001b[39m], color_data[:, \u001b[39m1\u001b[39m]), axis\u001b[39m=\u001b[39m\u001b[39m2\u001b[39m)\n\u001b[1;32m---> 37\u001b[0m depth_ds \u001b[39m=\u001b[39m torch\u001b[39m.\u001b[39mfrom_numpy(normalize(depth_data))\n\u001b[0;32m     38\u001b[0m color_ds \u001b[39m=\u001b[39m torch\u001b[39m.\u001b[39mfrom_numpy(normalize(color_data))\n\u001b[0;32m     39\u001b[0m visual_ds \u001b[39m=\u001b[39m torch\u001b[39m.\u001b[39mfrom_numpy(normalize(poses_data))\n",
      "Cell \u001b[1;32mIn[8], line 4\u001b[0m, in \u001b[0;36mnormalize\u001b[1;34m(arr)\u001b[0m\n\u001b[0;32m      1\u001b[0m \u001b[39mdef\u001b[39;00m \u001b[39mnormalize\u001b[39m(arr):\n\u001b[0;32m      2\u001b[0m     \u001b[39m# Normalize & standardize each column\u001b[39;00m\n\u001b[0;32m      3\u001b[0m     mean \u001b[39m=\u001b[39m np\u001b[39m.\u001b[39mmean(arr, axis\u001b[39m=\u001b[39m\u001b[39m0\u001b[39m)\n\u001b[1;32m----> 4\u001b[0m     std \u001b[39m=\u001b[39m np\u001b[39m.\u001b[39;49mstd(arr, axis\u001b[39m=\u001b[39;49m\u001b[39m0\u001b[39;49m)\n\u001b[0;32m      6\u001b[0m     arr \u001b[39m=\u001b[39m (arr \u001b[39m-\u001b[39m mean) \u001b[39m/\u001b[39m std\n\u001b[0;32m      7\u001b[0m     arr \u001b[39m=\u001b[39m np\u001b[39m.\u001b[39mnan_to_num(arr, \u001b[39m0\u001b[39m)\n",
      "File \u001b[1;32m<__array_function__ internals>:5\u001b[0m, in \u001b[0;36mstd\u001b[1;34m(*args, **kwargs)\u001b[0m\n",
      "File \u001b[1;32md:\\UCL_CS\\Y3\\COMP0029 Individual Project\\Individual Project (90%)\\UCL-FYP\\venv\\lib\\site-packages\\numpy\\core\\fromnumeric.py:3560\u001b[0m, in \u001b[0;36mstd\u001b[1;34m(a, axis, dtype, out, ddof, keepdims, where)\u001b[0m\n\u001b[0;32m   3557\u001b[0m     \u001b[39melse\u001b[39;00m:\n\u001b[0;32m   3558\u001b[0m         \u001b[39mreturn\u001b[39;00m std(axis\u001b[39m=\u001b[39maxis, dtype\u001b[39m=\u001b[39mdtype, out\u001b[39m=\u001b[39mout, ddof\u001b[39m=\u001b[39mddof, \u001b[39m*\u001b[39m\u001b[39m*\u001b[39mkwargs)\n\u001b[1;32m-> 3560\u001b[0m \u001b[39mreturn\u001b[39;00m _methods\u001b[39m.\u001b[39m_std(a, axis\u001b[39m=\u001b[39maxis, dtype\u001b[39m=\u001b[39mdtype, out\u001b[39m=\u001b[39mout, ddof\u001b[39m=\u001b[39mddof,\n\u001b[0;32m   3561\u001b[0m                      \u001b[39m*\u001b[39m\u001b[39m*\u001b[39mkwargs)\n",
      "File \u001b[1;32md:\\UCL_CS\\Y3\\COMP0029 Individual Project\\Individual Project (90%)\\UCL-FYP\\venv\\lib\\site-packages\\numpy\\core\\_methods.py:261\u001b[0m, in \u001b[0;36m_std\u001b[1;34m(a, axis, dtype, out, ddof, keepdims, where)\u001b[0m\n\u001b[0;32m    259\u001b[0m \u001b[39mdef\u001b[39;00m \u001b[39m_std\u001b[39m(a, axis\u001b[39m=\u001b[39m\u001b[39mNone\u001b[39;00m, dtype\u001b[39m=\u001b[39m\u001b[39mNone\u001b[39;00m, out\u001b[39m=\u001b[39m\u001b[39mNone\u001b[39;00m, ddof\u001b[39m=\u001b[39m\u001b[39m0\u001b[39m, keepdims\u001b[39m=\u001b[39m\u001b[39mFalse\u001b[39;00m, \u001b[39m*\u001b[39m,\n\u001b[0;32m    260\u001b[0m          where\u001b[39m=\u001b[39m\u001b[39mTrue\u001b[39;00m):\n\u001b[1;32m--> 261\u001b[0m     ret \u001b[39m=\u001b[39m _var(a, axis\u001b[39m=\u001b[39;49maxis, dtype\u001b[39m=\u001b[39;49mdtype, out\u001b[39m=\u001b[39;49mout, ddof\u001b[39m=\u001b[39;49mddof,\n\u001b[0;32m    262\u001b[0m                keepdims\u001b[39m=\u001b[39;49mkeepdims, where\u001b[39m=\u001b[39;49mwhere)\n\u001b[0;32m    264\u001b[0m     \u001b[39mif\u001b[39;00m \u001b[39misinstance\u001b[39m(ret, mu\u001b[39m.\u001b[39mndarray):\n\u001b[0;32m    265\u001b[0m         ret \u001b[39m=\u001b[39m um\u001b[39m.\u001b[39msqrt(ret, out\u001b[39m=\u001b[39mret)\n",
      "File \u001b[1;32md:\\UCL_CS\\Y3\\COMP0029 Individual Project\\Individual Project (90%)\\UCL-FYP\\venv\\lib\\site-packages\\numpy\\core\\_methods.py:229\u001b[0m, in \u001b[0;36m_var\u001b[1;34m(a, axis, dtype, out, ddof, keepdims, where)\u001b[0m\n\u001b[0;32m    224\u001b[0m     arrmean \u001b[39m=\u001b[39m arrmean\u001b[39m.\u001b[39mdtype\u001b[39m.\u001b[39mtype(arrmean \u001b[39m/\u001b[39m rcount)\n\u001b[0;32m    226\u001b[0m \u001b[39m# Compute sum of squared deviations from mean\u001b[39;00m\n\u001b[0;32m    227\u001b[0m \u001b[39m# Note that x may not be inexact and that we need it to be an array,\u001b[39;00m\n\u001b[0;32m    228\u001b[0m \u001b[39m# not a scalar.\u001b[39;00m\n\u001b[1;32m--> 229\u001b[0m x \u001b[39m=\u001b[39m asanyarray(arr \u001b[39m-\u001b[39;49m arrmean)\n\u001b[0;32m    231\u001b[0m \u001b[39mif\u001b[39;00m \u001b[39missubclass\u001b[39m(arr\u001b[39m.\u001b[39mdtype\u001b[39m.\u001b[39mtype, (nt\u001b[39m.\u001b[39mfloating, nt\u001b[39m.\u001b[39minteger)):\n\u001b[0;32m    232\u001b[0m     x \u001b[39m=\u001b[39m um\u001b[39m.\u001b[39mmultiply(x, x, out\u001b[39m=\u001b[39mx)\n",
      "\u001b[1;31mKeyboardInterrupt\u001b[0m: "
     ]
    }
   ],
   "source": [
    "K = 20\n",
    "combinations = [\n",
    "    [[\"block1\", \"block2\"], [\"block3\"]],\n",
    "    [[\"block1\", \"block3\"], [\"block2\"]],\n",
    "    [[\"block2\", \"block3\"], [\"block1\"]],\n",
    "    [[\"mustard_bottle1\", \"mustard_bottle2\"], [\"mustard_bottle3\"]],\n",
    "    [[\"mustard_bottle1\", \"mustard_bottle3\"], [\"mustard_bottle2\"]],\n",
    "    [[\"mustard_bottle2\", \"mustard_bottle3\"], [\"mustard_bottle1\"]],\n",
    "    [[\"cylinder1\", \"cylinder2\"], [\"cylinder3\"]],\n",
    "    [[\"cylinder1\", \"cylinder3\"], [\"cylinder2\"]],\n",
    "    [[\"cylinder2\", \"cylinder3\"], [\"cylinder1\"]]\n",
    "]\n",
    "\n",
    "for combination in combinations:\n",
    "    training_object_names = combination[0]\n",
    "    testing_object_names = combination[1]\n",
    "\n",
    "    mlp7a_X_train_ds, mlp7a_y_train_ds = prepare_cnn_dataset(training_object_names, object_features, pca_required=True, k=K)\n",
    "    mlp7a_X_valid_ds, mlp7a_y_valid_ds = prepare_cnn_dataset(testing_object_names, object_features, pca_required=True, k=K)\n",
    "\n",
    "    # Calculate the average accuracy across 5 training trials\n",
    "    accuracies = []\n",
    "    for _ in range(0, 5):\n",
    "        mlp7a = MLP(input_size=mlp7a_X_train_ds.shape[1], hidden_size=10, output_size=1)\n",
    "        mlp7a.train_mlp(epochs=1000, X_train=mlp7a_X_train_ds, y_train=mlp7a_y_train_ds)\n",
    "        accuracy = mlp7a.eval_mlp(X_test=mlp7a_X_valid_ds, y_test=mlp7a_y_valid_ds)\n",
    "        accuracies.append(accuracy)\n",
    "\n",
    "    print(np.mean(accuracies))"
   ]
  },
  {
   "cell_type": "markdown",
   "metadata": {},
   "source": [
    "#### 7.2 Train MLP on randomly sampled subset of all objects\n",
    "Objective: see influence of dataset size on accuracy;"
   ]
  },
  {
   "cell_type": "code",
   "execution_count": 45,
   "metadata": {},
   "outputs": [],
   "source": [
    "object_names = [\"block1\", \"block2\", \"block3\", \"cylinder1\", \"cylinder2\", \"cylinder3\", \"mustard_bottle1\", \"mustard_bottle2\", \"mustard_bottle3\"]"
   ]
  },
  {
   "cell_type": "code",
   "execution_count": 46,
   "metadata": {},
   "outputs": [],
   "source": [
    "object_features = np.concatenate((block_features, cylinder_features, bottle_features))"
   ]
  },
  {
   "cell_type": "markdown",
   "metadata": {},
   "source": [
    "Random sampling with np.random.choice(replace=True), allowing repeated examples from the dataset to be sampled"
   ]
  },
  {
   "cell_type": "code",
   "execution_count": 65,
   "metadata": {},
   "outputs": [
    {
     "name": "stdout",
     "output_type": "stream",
     "text": [
      "Input size 100\n",
      "Accuracy of MLP model: 45.00%\n",
      "Input size 200\n",
      "Accuracy of MLP model: 60.00%\n",
      "Input size 300\n",
      "Accuracy of MLP model: 71.67%\n",
      "Input size 400\n",
      "Accuracy of MLP model: 73.75%\n",
      "Input size 500\n",
      "Accuracy of MLP model: 73.00%\n",
      "Input size 600\n",
      "Accuracy of MLP model: 80.83%\n",
      "Input size 700\n",
      "Accuracy of MLP model: 79.29%\n",
      "Input size 800\n",
      "Accuracy of MLP model: 84.38%\n",
      "Input size 900\n",
      "Accuracy of MLP model: 83.33%\n",
      "Input size 1000\n",
      "Accuracy of MLP model: 79.00%\n",
      "Input size 1100\n",
      "Accuracy of MLP model: 84.55%\n",
      "Input size 1200\n",
      "Accuracy of MLP model: 84.17%\n",
      "Input size 1300\n",
      "Accuracy of MLP model: 89.62%\n",
      "Input size 1400\n",
      "Accuracy of MLP model: 88.93%\n"
     ]
    }
   ],
   "source": [
    "for input_size in range(100, 1500, 100):\n",
    "    print(f\"Input size {input_size}\")\n",
    "    mlp7b_final_ds, mlp7b_grasp_outcomes_ds = prepare_cnn_dataset(object_names, object_features, pca_required=False, k=11, sampling=True, N=input_size)\n",
    "    X_final_complete_train, X_final_complete_test, y_final_complete_train, y_final_complete_test = train_test_split(mlp7b_final_ds, mlp7b_grasp_outcomes_ds, test_size=0.2)\n",
    "    mlp7b = MLP(input_size=527, hidden_size=64, output_size=1)\n",
    "    mlp7b.train_mlp(epochs=1000, X_train=X_final_complete_train, y_train=y_final_complete_train)\n",
    "    accuracy = mlp7b.eval_mlp(X_test=X_final_complete_test, y_test=y_final_complete_test, verbose=False)"
   ]
  }
 ],
 "metadata": {
  "kernelspec": {
   "display_name": "Python 3.9.7 ('venv': venv)",
   "language": "python",
   "name": "python3"
  },
  "language_info": {
   "codemirror_mode": {
    "name": "ipython",
    "version": 3
   },
   "file_extension": ".py",
   "mimetype": "text/x-python",
   "name": "python",
   "nbconvert_exporter": "python",
   "pygments_lexer": "ipython3",
   "version": "3.9.7"
  },
  "orig_nbformat": 4,
  "vscode": {
   "interpreter": {
    "hash": "ee1153b3f7d4e5dcd3632df88b5826f13fc1401ea1edd930ba216b62830b02e0"
   }
  }
 },
 "nbformat": 4,
 "nbformat_minor": 2
}
