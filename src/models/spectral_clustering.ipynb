{
 "cells": [
  {
   "attachments": {},
   "cell_type": "markdown",
   "metadata": {},
   "source": [
    "# Spectral clustering\n",
    "for determining the successfulness of object feature representation in identifying various objects"
   ]
  },
  {
   "cell_type": "code",
   "execution_count": 1,
   "metadata": {},
   "outputs": [],
   "source": [
    "import numpy as np\n",
    "from sklearn.cluster import KMeans, SpectralClustering\n",
    "from sklearn.preprocessing import StandardScaler, MinMaxScaler, RobustScaler\n",
    "import matplotlib.pyplot as plt"
   ]
  },
  {
   "cell_type": "markdown",
   "metadata": {},
   "source": [
    "### Loading object features"
   ]
  },
  {
   "cell_type": "code",
   "execution_count": 2,
   "metadata": {},
   "outputs": [],
   "source": [
    "### Object features\n",
    "block_features = np.array([\n",
    "    [0.025, 0.05, 0.05, 0., 0.],\n",
    "    [0.03, 0.025, 0.045, 0., 0.],\n",
    "    [0.05, 0.025, 0.04, 0., 0.],\n",
    "])\n",
    "\n",
    "cylinder_features = np.array([\n",
    "    [0.04, 0.04, 0.05, 950.21606561, 14540.28434464],\n",
    "    [0.045, 0.045, 0.035, 750.78800246, 11488.6197291],\n",
    "    [0.034, 0.034, 0.045, 1315.17794549, 20124.96103064]\n",
    "])\n",
    "\n",
    "object_names = {0: 'cylinder', 1: 'block'}"
   ]
  },
  {
   "cell_type": "markdown",
   "metadata": {},
   "source": [
    "### Feature transformation"
   ]
  },
  {
   "cell_type": "markdown",
   "metadata": {},
   "source": [
    "Concatenating features together"
   ]
  },
  {
   "cell_type": "code",
   "execution_count": 3,
   "metadata": {},
   "outputs": [
    {
     "data": {
      "text/plain": [
       "array([[2.50000000e-02, 5.00000000e-02, 5.00000000e-02, 0.00000000e+00,\n",
       "        0.00000000e+00],\n",
       "       [3.00000000e-02, 2.50000000e-02, 4.50000000e-02, 0.00000000e+00,\n",
       "        0.00000000e+00],\n",
       "       [5.00000000e-02, 2.50000000e-02, 4.00000000e-02, 0.00000000e+00,\n",
       "        0.00000000e+00],\n",
       "       [4.00000000e-02, 4.00000000e-02, 5.00000000e-02, 9.50216066e+02,\n",
       "        1.45402843e+04],\n",
       "       [4.50000000e-02, 4.50000000e-02, 3.50000000e-02, 7.50788002e+02,\n",
       "        1.14886197e+04],\n",
       "       [3.40000000e-02, 3.40000000e-02, 4.50000000e-02, 1.31517795e+03,\n",
       "        2.01249610e+04]])"
      ]
     },
     "execution_count": 3,
     "metadata": {},
     "output_type": "execute_result"
    }
   ],
   "source": [
    "# objects = (block_features, cylinder_features, bottle_features)\n",
    "objects = (block_features, cylinder_features)\n",
    "features = np.concatenate(objects)\n",
    "features"
   ]
  },
  {
   "cell_type": "markdown",
   "metadata": {},
   "source": [
    "Standardize the data"
   ]
  },
  {
   "cell_type": "code",
   "execution_count": 4,
   "metadata": {},
   "outputs": [
    {
     "data": {
      "text/plain": [
       "array([[-1.43479846,  1.42633047,  1.09321633, -0.94999091, -0.94999091],\n",
       "       [-0.85312341, -1.21502225,  0.15617376, -0.94999091, -0.94999091],\n",
       "       [ 1.4735768 , -1.21502225, -0.78086881, -0.94999091, -0.94999091],\n",
       "       [ 0.31022669,  0.36978938,  1.09321633,  0.84571629,  0.84571629],\n",
       "       [ 0.89190174,  0.89805992, -1.71791138,  0.46883947,  0.46883947],\n",
       "       [-0.38778337, -0.26413527,  0.15617376,  1.53541698,  1.53541698]])"
      ]
     },
     "execution_count": 4,
     "metadata": {},
     "output_type": "execute_result"
    }
   ],
   "source": [
    "scaler = StandardScaler()\n",
    "features = scaler.fit_transform(features)\n",
    "features"
   ]
  },
  {
   "cell_type": "markdown",
   "metadata": {},
   "source": [
    "### Spectral clustering"
   ]
  },
  {
   "cell_type": "code",
   "execution_count": 5,
   "metadata": {},
   "outputs": [
    {
     "data": {
      "text/plain": [
       "array([1, 1, 1, 0, 0, 0])"
      ]
     },
     "execution_count": 5,
     "metadata": {},
     "output_type": "execute_result"
    }
   ],
   "source": [
    "clusters = 2\n",
    "kmeans = KMeans(n_clusters=clusters, n_init=3, random_state=0)\n",
    "kmeans.fit(features)\n",
    "labels = kmeans.labels_\n",
    "labels\n",
    "\n",
    "# spectral = SpectralClustering(n_clusters=clusters, affinity='nearest_neighbors', n_neighbors=3, random_state=0)\n",
    "# spectral.fit(features)\n",
    "# labels = spectral.labels_\n",
    "# labels"
   ]
  },
  {
   "cell_type": "code",
   "execution_count": 6,
   "metadata": {},
   "outputs": [
    {
     "data": {
      "image/png": "[encoded data removed]",
      "text/plain": [
       "<Figure size 640x480 with 1 Axes>"
      ]
     },
     "metadata": {},
     "output_type": "display_data"
    }
   ],
   "source": [
    "# Create a scatter plot of feature 1 against feature 2\n",
    "fig, ax = plt.subplots()\n",
    "scatter = ax.scatter(features[:, 2], features[:, 3], c=labels, cmap='viridis')\n",
    "plt.xlabel('Feature 1')\n",
    "plt.ylabel('Feature 2')\n",
    "plt.title('Scatter plot of Feature 1 vs Feature 2')\n",
    "\n",
    "# Add labels for each point\n",
    "for i, label in enumerate(labels):\n",
    "    ax.annotate(str(object_names[label]), (features[i, 0], features[i, 1]))\n",
    "\n",
    "plt.show()"
   ]
  }
 ],
 "metadata": {
  "kernelspec": {
   "display_name": "Python 3.9.7 ('venv': venv)",
   "language": "python",
   "name": "python3"
  },
  "language_info": {
   "codemirror_mode": {
    "name": "ipython",
    "version": 3
   },
   "file_extension": ".py",
   "mimetype": "text/x-python",
   "name": "python",
   "nbconvert_exporter": "python",
   "pygments_lexer": "ipython3",
   "version": "3.9.7"
  },
  "orig_nbformat": 4,
  "vscode": {
   "interpreter": {
    "hash": "ee1153b3f7d4e5dcd3632df88b5826f13fc1401ea1edd930ba216b62830b02e0"
   }
  }
 },
 "nbformat": 4,
 "nbformat_minor": 2
}
