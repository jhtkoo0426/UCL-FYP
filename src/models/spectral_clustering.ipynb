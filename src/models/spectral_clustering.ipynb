{
 "cells": [
  {
   "attachments": {},
   "cell_type": "markdown",
   "metadata": {},
   "source": [
    "### Spectral Clustering for Determining Successfulness of Object Feature Representation in Object Class Identification"
   ]
  },
  {
   "cell_type": "code",
   "execution_count": null,
   "metadata": {},
   "outputs": [],
   "source": [
    "import numpy as np"
   ]
  },
  {
   "cell_type": "code",
   "execution_count": null,
   "metadata": {},
   "outputs": [],
   "source": [
    "### Object features\n",
    "block1 = np.array([0.025, 0.05, 0.05, 0., 0., 0., 0., 0., 0.])\n",
    "block2 = np.array([0.03, 0.025, 0.045, 0., 0., 0., 0., 0., 0.])\n",
    "block3 = np.array([0.05, 0.025, 0.04, 0., 0., 0., 0., 0., 0.])\n",
    "bottle1 = np.array([1.0, 0.6, 0.6, 309.36678819, 2821.1936563 ,  354.75590933,  913.89530908, 1272.62981163, 2693.03405172])"
   ]
  }
 ],
 "metadata": {
  "language_info": {
   "name": "python"
  },
  "orig_nbformat": 4
 },
 "nbformat": 4,
 "nbformat_minor": 2
}
