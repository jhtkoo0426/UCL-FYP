{
 "cells": [
  {
   "attachments": {},
   "cell_type": "markdown",
   "metadata": {},
   "source": [
    "# Spectral clustering\n",
    "for determining the successfulness of object feature representation in identifying various objects"
   ]
  },
  {
   "cell_type": "code",
   "execution_count": 160,
   "metadata": {},
   "outputs": [],
   "source": [
    "import numpy as np\n",
    "from sklearn.cluster import SpectralClustering\n",
    "import matplotlib.pyplot as plt"
   ]
  },
  {
   "cell_type": "markdown",
   "metadata": {},
   "source": [
    "### Loading object features"
   ]
  },
  {
   "cell_type": "code",
   "execution_count": 161,
   "metadata": {},
   "outputs": [
    {
     "name": "stdout",
     "output_type": "stream",
     "text": [
      "(3, 9) (3, 9)\n"
     ]
    }
   ],
   "source": [
    "### Object features\n",
    "block_features = np.array([\n",
    "    [0.025, 0.05, 0.05, 0., 0., 0., 0., 0., 0.],\n",
    "    [0.03, 0.025, 0.045, 0., 0., 0., 0., 0., 0.],\n",
    "    [0.05, 0.025, 0.04, 0., 0., 0., 0., 0., 0.],\n",
    "])\n",
    "\n",
    "bottle_features = np.array([\n",
    "    [1.0, 0.6, 0.6, 309.36678819, 2821.1936563 ,  354.75590933,  913.89530908, 1272.62981163, 2693.03405172],\n",
    "    [1.0, 0.8, 0.9, 409.36678819, 2521.1936563 ,  274.75590933,  1003.89530908, 1352.62981163, 3013.03405172],\n",
    "    [0.9, 0.8, 1.0, 362.36678819, 2725.1936563 ,  406.75590933,  783.89530908, 982.62981163, 2533.03405172],\n",
    "])\n",
    "\n",
    "object_names = {0: 'bottle', 1: 'block'}\n",
    "\n",
    "print(block_features.shape, bottle_features.shape)"
   ]
  },
  {
   "cell_type": "markdown",
   "metadata": {},
   "source": [
    "### Feature transformation"
   ]
  },
  {
   "cell_type": "markdown",
   "metadata": {},
   "source": [
    "Concatenating features together"
   ]
  },
  {
   "cell_type": "code",
   "execution_count": 162,
   "metadata": {},
   "outputs": [
    {
     "data": {
      "text/plain": [
       "array([[2.50000000e-02, 5.00000000e-02, 5.00000000e-02, 0.00000000e+00,\n",
       "        0.00000000e+00, 0.00000000e+00, 0.00000000e+00, 0.00000000e+00,\n",
       "        0.00000000e+00],\n",
       "       [3.00000000e-02, 2.50000000e-02, 4.50000000e-02, 0.00000000e+00,\n",
       "        0.00000000e+00, 0.00000000e+00, 0.00000000e+00, 0.00000000e+00,\n",
       "        0.00000000e+00],\n",
       "       [5.00000000e-02, 2.50000000e-02, 4.00000000e-02, 0.00000000e+00,\n",
       "        0.00000000e+00, 0.00000000e+00, 0.00000000e+00, 0.00000000e+00,\n",
       "        0.00000000e+00],\n",
       "       [1.00000000e+00, 6.00000000e-01, 6.00000000e-01, 3.09366788e+02,\n",
       "        2.82119366e+03, 3.54755909e+02, 9.13895309e+02, 1.27262981e+03,\n",
       "        2.69303405e+03],\n",
       "       [1.00000000e+00, 8.00000000e-01, 9.00000000e-01, 4.09366788e+02,\n",
       "        2.52119366e+03, 2.74755909e+02, 1.00389531e+03, 1.35262981e+03,\n",
       "        3.01303405e+03],\n",
       "       [9.00000000e-01, 8.00000000e-01, 1.00000000e+00, 3.62366788e+02,\n",
       "        2.72519366e+03, 4.06755909e+02, 7.83895309e+02, 9.82629812e+02,\n",
       "        2.53303405e+03]])"
      ]
     },
     "execution_count": 162,
     "metadata": {},
     "output_type": "execute_result"
    }
   ],
   "source": [
    "objects = (block_features, bottle_features)\n",
    "features = np.concatenate(objects)\n",
    "features"
   ]
  },
  {
   "cell_type": "markdown",
   "metadata": {},
   "source": [
    "Normalising the features by column"
   ]
  },
  {
   "cell_type": "code",
   "execution_count": 163,
   "metadata": {},
   "outputs": [],
   "source": [
    "def normalize(arr):\n",
    "    # Normalize & standardize each column\n",
    "    mean = np.mean(arr, axis=0)\n",
    "    std = np.std(arr, axis=0)\n",
    "    arr = (arr - mean) / std\n",
    "    arr[np.isnan(arr)] = 0\n",
    "    arr[np.isinf(arr)] = 0\n",
    "    return arr\n",
    "\n",
    "features = normalize(features)"
   ]
  },
  {
   "cell_type": "markdown",
   "metadata": {},
   "source": [
    "### Spectral clustering"
   ]
  },
  {
   "cell_type": "code",
   "execution_count": 164,
   "metadata": {},
   "outputs": [
    {
     "name": "stderr",
     "output_type": "stream",
     "text": [
      "d:\\UCL_CS\\Y3\\COMP0029 Individual Project\\Individual Project (90%)\\UCL-FYP\\venv\\lib\\site-packages\\sklearn\\manifold\\_spectral_embedding.py:274: UserWarning: Graph is not fully connected, spectral embedding may not work as expected.\n",
      "  warnings.warn(\n"
     ]
    }
   ],
   "source": [
    "n_clusters = 2\n",
    "clustering = SpectralClustering(n_clusters=n_clusters, affinity='nearest_neighbors', n_neighbors=3, assign_labels='kmeans', random_state=0).fit(features)\n",
    "labels = clustering.labels_"
   ]
  },
  {
   "cell_type": "code",
   "execution_count": 165,
   "metadata": {},
   "outputs": [
    {
     "data": {
      "image/png": "[encoded data removed]",
      "text/plain": [
       "<Figure size 640x480 with 1 Axes>"
      ]
     },
     "metadata": {},
     "output_type": "display_data"
    }
   ],
   "source": [
    "# Create a scatter plot of feature 1 against feature 2\n",
    "fig, ax = plt.subplots()\n",
    "scatter = ax.scatter(features[:, 0], features[:, 1], c=labels, cmap='viridis')\n",
    "plt.xlabel('Feature 1')\n",
    "plt.ylabel('Feature 2')\n",
    "plt.title('Scatter plot of Feature 1 vs Feature 2')\n",
    "\n",
    "# Add labels for each point\n",
    "for i, label in enumerate(labels):\n",
    "    ax.annotate(str(object_names[label]), (features[i, 0], features[i, 1]))\n",
    "\n",
    "plt.show()"
   ]
  }
 ],
 "metadata": {
  "kernelspec": {
   "display_name": "Python 3.9.7 ('venv': venv)",
   "language": "python",
   "name": "python3"
  },
  "language_info": {
   "codemirror_mode": {
    "name": "ipython",
    "version": 3
   },
   "file_extension": ".py",
   "mimetype": "text/x-python",
   "name": "python",
   "nbconvert_exporter": "python",
   "pygments_lexer": "ipython3",
   "version": "3.8.16"
  },
  "orig_nbformat": 4,
  "vscode": {
   "interpreter": {
    "hash": "ee1153b3f7d4e5dcd3632df88b5826f13fc1401ea1edd930ba216b62830b02e0"
   }
  }
 },
 "nbformat": 4,
 "nbformat_minor": 2
}
